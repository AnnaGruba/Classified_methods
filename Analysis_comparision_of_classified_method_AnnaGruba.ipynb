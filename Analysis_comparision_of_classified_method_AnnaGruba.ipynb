{
 "cells": [
  {
   "cell_type": "markdown",
   "metadata": {},
   "source": [
    "#  Analysis comparishion of classified methods based on dataset of films and assessment of the significance of variables on the sympathy of viewers."
   ]
  },
  {
   "cell_type": "markdown",
   "metadata": {},
   "source": [
    "Description of the project:\n",
    "    Based on dataset of about 45000 movies with metadata collected from TMDB, I’ll try to answear \n",
    "the question  what makes the movies success among viewers. \n",
    "In my notebook, I’ll present analysis comparishion of classified methods which identify what kind of films reach high scores and which the low one. Afterward I'll reveal what determines of the liking of the films among viewers. "
   ]
  },
  {
   "cell_type": "code",
   "execution_count": 33,
   "metadata": {
    "collapsed": false
   },
   "outputs": [],
   "source": [
    "# Importing packages\n",
    "\n",
    "import numpy as np\n",
    "import pandas as pd\n",
    "import re\n",
    "import ast\n",
    "import seaborn as sns\n",
    "\n",
    "import matplotlib.pyplot as plt\n",
    "%matplotlib inline\n",
    "import sklearn\n",
    "from sklearn import tree\n",
    "# import graphviz \n",
    "\n",
    "from sklearn.pipeline import Pipeline, make_pipeline\n",
    "from sklearn.neighbors import KNeighborsClassifier\n",
    "from sklearn.base import TransformerMixin\n",
    "from sklearn.ensemble import VotingClassifier\n",
    "from sklearn import datasets\n",
    "from sklearn.preprocessing import PolynomialFeatures\n",
    "from sklearn.linear_model import LinearRegression\n",
    "from sklearn.linear_model import LogisticRegression, LogisticRegressionCV\n",
    "from sklearn.model_selection import cross_val_score, cross_val_predict\n",
    "from sklearn import  metrics\n",
    "from sklearn.metrics import accuracy_score, confusion_matrix,make_scorer,roc_auc_score,roc_curve\n",
    "from sklearn.model_selection import train_test_split, GridSearchCV,KFold, RandomizedSearchCV\n",
    "from sklearn.preprocessing import StandardScaler,MinMaxScaler,Imputer\n",
    "from sklearn.tree import DecisionTreeClassifier\n",
    "from sklearn.naive_bayes import MultinomialNB, GaussianNB\n",
    "from sklearn.feature_selection import VarianceThreshold, SelectFromModel,RFE,RFECV\n",
    "from sklearn.feature_extraction.text import CountVectorizer\n",
    "from sklearn.svm import SVC\n",
    "from xgboost import XGBClassifier \n",
    "from sklearn.ensemble import RandomForestClassifier,BaggingClassifier,AdaBoostClassifier, GradientBoostingClassifier\n",
    "from sklearn.metrics import accuracy_score, confusion_matrix,precision_score,recall_score,f1_score,classification_report\n",
    "from sklearn.discriminant_analysis import LinearDiscriminantAnalysis,QuadraticDiscriminantAnalysis\n",
    "from sklearn.ensemble import GradientBoostingClassifier, GradientBoostingRegressor\n",
    "np.warnings.filterwarnings('ignore')\n",
    "from xgboost import plot_importance"
   ]
  },
  {
   "cell_type": "code",
   "execution_count": 34,
   "metadata": {
    "collapsed": true
   },
   "outputs": [],
   "source": [
    "f = pd.read_csv('../Pobrane/the-movies-dataset/movies_metadata.csv')"
   ]
  },
  {
   "cell_type": "code",
   "execution_count": 35,
   "metadata": {
    "collapsed": false
   },
   "outputs": [
    {
     "data": {
      "text/html": [
       "<div>\n",
       "<table border=\"1\" class=\"dataframe\">\n",
       "  <thead>\n",
       "    <tr style=\"text-align: right;\">\n",
       "      <th></th>\n",
       "      <th>adult</th>\n",
       "      <th>belongs_to_collection</th>\n",
       "      <th>budget</th>\n",
       "      <th>genres</th>\n",
       "      <th>homepage</th>\n",
       "      <th>id</th>\n",
       "      <th>imdb_id</th>\n",
       "      <th>original_language</th>\n",
       "      <th>original_title</th>\n",
       "      <th>overview</th>\n",
       "      <th>...</th>\n",
       "      <th>release_date</th>\n",
       "      <th>revenue</th>\n",
       "      <th>runtime</th>\n",
       "      <th>spoken_languages</th>\n",
       "      <th>status</th>\n",
       "      <th>tagline</th>\n",
       "      <th>title</th>\n",
       "      <th>video</th>\n",
       "      <th>vote_average</th>\n",
       "      <th>vote_count</th>\n",
       "    </tr>\n",
       "  </thead>\n",
       "  <tbody>\n",
       "    <tr>\n",
       "      <th>0</th>\n",
       "      <td>False</td>\n",
       "      <td>{'id': 10194, 'name': 'Toy Story Collection', ...</td>\n",
       "      <td>30000000</td>\n",
       "      <td>[{'id': 16, 'name': 'Animation'}, {'id': 35, '...</td>\n",
       "      <td>http://toystory.disney.com/toy-story</td>\n",
       "      <td>862</td>\n",
       "      <td>tt0114709</td>\n",
       "      <td>en</td>\n",
       "      <td>Toy Story</td>\n",
       "      <td>Led by Woody, Andy's toys live happily in his ...</td>\n",
       "      <td>...</td>\n",
       "      <td>1995-10-30</td>\n",
       "      <td>373554033.0</td>\n",
       "      <td>81.0</td>\n",
       "      <td>[{'iso_639_1': 'en', 'name': 'English'}]</td>\n",
       "      <td>Released</td>\n",
       "      <td>NaN</td>\n",
       "      <td>Toy Story</td>\n",
       "      <td>False</td>\n",
       "      <td>7.7</td>\n",
       "      <td>5415.0</td>\n",
       "    </tr>\n",
       "    <tr>\n",
       "      <th>1</th>\n",
       "      <td>False</td>\n",
       "      <td>NaN</td>\n",
       "      <td>65000000</td>\n",
       "      <td>[{'id': 12, 'name': 'Adventure'}, {'id': 14, '...</td>\n",
       "      <td>NaN</td>\n",
       "      <td>8844</td>\n",
       "      <td>tt0113497</td>\n",
       "      <td>en</td>\n",
       "      <td>Jumanji</td>\n",
       "      <td>When siblings Judy and Peter discover an encha...</td>\n",
       "      <td>...</td>\n",
       "      <td>1995-12-15</td>\n",
       "      <td>262797249.0</td>\n",
       "      <td>104.0</td>\n",
       "      <td>[{'iso_639_1': 'en', 'name': 'English'}, {'iso...</td>\n",
       "      <td>Released</td>\n",
       "      <td>Roll the dice and unleash the excitement!</td>\n",
       "      <td>Jumanji</td>\n",
       "      <td>False</td>\n",
       "      <td>6.9</td>\n",
       "      <td>2413.0</td>\n",
       "    </tr>\n",
       "    <tr>\n",
       "      <th>2</th>\n",
       "      <td>False</td>\n",
       "      <td>{'id': 119050, 'name': 'Grumpy Old Men Collect...</td>\n",
       "      <td>0</td>\n",
       "      <td>[{'id': 10749, 'name': 'Romance'}, {'id': 35, ...</td>\n",
       "      <td>NaN</td>\n",
       "      <td>15602</td>\n",
       "      <td>tt0113228</td>\n",
       "      <td>en</td>\n",
       "      <td>Grumpier Old Men</td>\n",
       "      <td>A family wedding reignites the ancient feud be...</td>\n",
       "      <td>...</td>\n",
       "      <td>1995-12-22</td>\n",
       "      <td>0.0</td>\n",
       "      <td>101.0</td>\n",
       "      <td>[{'iso_639_1': 'en', 'name': 'English'}]</td>\n",
       "      <td>Released</td>\n",
       "      <td>Still Yelling. Still Fighting. Still Ready for...</td>\n",
       "      <td>Grumpier Old Men</td>\n",
       "      <td>False</td>\n",
       "      <td>6.5</td>\n",
       "      <td>92.0</td>\n",
       "    </tr>\n",
       "    <tr>\n",
       "      <th>3</th>\n",
       "      <td>False</td>\n",
       "      <td>NaN</td>\n",
       "      <td>16000000</td>\n",
       "      <td>[{'id': 35, 'name': 'Comedy'}, {'id': 18, 'nam...</td>\n",
       "      <td>NaN</td>\n",
       "      <td>31357</td>\n",
       "      <td>tt0114885</td>\n",
       "      <td>en</td>\n",
       "      <td>Waiting to Exhale</td>\n",
       "      <td>Cheated on, mistreated and stepped on, the wom...</td>\n",
       "      <td>...</td>\n",
       "      <td>1995-12-22</td>\n",
       "      <td>81452156.0</td>\n",
       "      <td>127.0</td>\n",
       "      <td>[{'iso_639_1': 'en', 'name': 'English'}]</td>\n",
       "      <td>Released</td>\n",
       "      <td>Friends are the people who let you be yourself...</td>\n",
       "      <td>Waiting to Exhale</td>\n",
       "      <td>False</td>\n",
       "      <td>6.1</td>\n",
       "      <td>34.0</td>\n",
       "    </tr>\n",
       "    <tr>\n",
       "      <th>4</th>\n",
       "      <td>False</td>\n",
       "      <td>{'id': 96871, 'name': 'Father of the Bride Col...</td>\n",
       "      <td>0</td>\n",
       "      <td>[{'id': 35, 'name': 'Comedy'}]</td>\n",
       "      <td>NaN</td>\n",
       "      <td>11862</td>\n",
       "      <td>tt0113041</td>\n",
       "      <td>en</td>\n",
       "      <td>Father of the Bride Part II</td>\n",
       "      <td>Just when George Banks has recovered from his ...</td>\n",
       "      <td>...</td>\n",
       "      <td>1995-02-10</td>\n",
       "      <td>76578911.0</td>\n",
       "      <td>106.0</td>\n",
       "      <td>[{'iso_639_1': 'en', 'name': 'English'}]</td>\n",
       "      <td>Released</td>\n",
       "      <td>Just When His World Is Back To Normal... He's ...</td>\n",
       "      <td>Father of the Bride Part II</td>\n",
       "      <td>False</td>\n",
       "      <td>5.7</td>\n",
       "      <td>173.0</td>\n",
       "    </tr>\n",
       "  </tbody>\n",
       "</table>\n",
       "<p>5 rows × 24 columns</p>\n",
       "</div>"
      ],
      "text/plain": [
       "   adult                              belongs_to_collection    budget  \\\n",
       "0  False  {'id': 10194, 'name': 'Toy Story Collection', ...  30000000   \n",
       "1  False                                                NaN  65000000   \n",
       "2  False  {'id': 119050, 'name': 'Grumpy Old Men Collect...         0   \n",
       "3  False                                                NaN  16000000   \n",
       "4  False  {'id': 96871, 'name': 'Father of the Bride Col...         0   \n",
       "\n",
       "                                              genres  \\\n",
       "0  [{'id': 16, 'name': 'Animation'}, {'id': 35, '...   \n",
       "1  [{'id': 12, 'name': 'Adventure'}, {'id': 14, '...   \n",
       "2  [{'id': 10749, 'name': 'Romance'}, {'id': 35, ...   \n",
       "3  [{'id': 35, 'name': 'Comedy'}, {'id': 18, 'nam...   \n",
       "4                     [{'id': 35, 'name': 'Comedy'}]   \n",
       "\n",
       "                               homepage     id    imdb_id original_language  \\\n",
       "0  http://toystory.disney.com/toy-story    862  tt0114709                en   \n",
       "1                                   NaN   8844  tt0113497                en   \n",
       "2                                   NaN  15602  tt0113228                en   \n",
       "3                                   NaN  31357  tt0114885                en   \n",
       "4                                   NaN  11862  tt0113041                en   \n",
       "\n",
       "                original_title  \\\n",
       "0                    Toy Story   \n",
       "1                      Jumanji   \n",
       "2             Grumpier Old Men   \n",
       "3            Waiting to Exhale   \n",
       "4  Father of the Bride Part II   \n",
       "\n",
       "                                            overview    ...     release_date  \\\n",
       "0  Led by Woody, Andy's toys live happily in his ...    ...       1995-10-30   \n",
       "1  When siblings Judy and Peter discover an encha...    ...       1995-12-15   \n",
       "2  A family wedding reignites the ancient feud be...    ...       1995-12-22   \n",
       "3  Cheated on, mistreated and stepped on, the wom...    ...       1995-12-22   \n",
       "4  Just when George Banks has recovered from his ...    ...       1995-02-10   \n",
       "\n",
       "       revenue runtime                                   spoken_languages  \\\n",
       "0  373554033.0    81.0           [{'iso_639_1': 'en', 'name': 'English'}]   \n",
       "1  262797249.0   104.0  [{'iso_639_1': 'en', 'name': 'English'}, {'iso...   \n",
       "2          0.0   101.0           [{'iso_639_1': 'en', 'name': 'English'}]   \n",
       "3   81452156.0   127.0           [{'iso_639_1': 'en', 'name': 'English'}]   \n",
       "4   76578911.0   106.0           [{'iso_639_1': 'en', 'name': 'English'}]   \n",
       "\n",
       "     status                                            tagline  \\\n",
       "0  Released                                                NaN   \n",
       "1  Released          Roll the dice and unleash the excitement!   \n",
       "2  Released  Still Yelling. Still Fighting. Still Ready for...   \n",
       "3  Released  Friends are the people who let you be yourself...   \n",
       "4  Released  Just When His World Is Back To Normal... He's ...   \n",
       "\n",
       "                         title  video vote_average vote_count  \n",
       "0                    Toy Story  False          7.7     5415.0  \n",
       "1                      Jumanji  False          6.9     2413.0  \n",
       "2             Grumpier Old Men  False          6.5       92.0  \n",
       "3            Waiting to Exhale  False          6.1       34.0  \n",
       "4  Father of the Bride Part II  False          5.7      173.0  \n",
       "\n",
       "[5 rows x 24 columns]"
      ]
     },
     "execution_count": 35,
     "metadata": {},
     "output_type": "execute_result"
    }
   ],
   "source": [
    "f.head()"
   ]
  },
  {
   "cell_type": "code",
   "execution_count": 36,
   "metadata": {
    "collapsed": false
   },
   "outputs": [
    {
     "data": {
      "text/plain": [
       "(45466, 24)"
      ]
     },
     "execution_count": 36,
     "metadata": {},
     "output_type": "execute_result"
    }
   ],
   "source": [
    "# We have 24 columns. \n",
    "f.shape"
   ]
  },
  {
   "cell_type": "code",
   "execution_count": 37,
   "metadata": {
    "collapsed": false
   },
   "outputs": [
    {
     "data": {
      "text/plain": [
       "Index(['adult', 'belongs_to_collection', 'budget', 'genres', 'homepage', 'id',\n",
       "       'imdb_id', 'original_language', 'original_title', 'overview',\n",
       "       'popularity', 'poster_path', 'production_companies',\n",
       "       'production_countries', 'release_date', 'revenue', 'runtime',\n",
       "       'spoken_languages', 'status', 'tagline', 'title', 'video',\n",
       "       'vote_average', 'vote_count'],\n",
       "      dtype='object')"
      ]
     },
     "execution_count": 37,
     "metadata": {},
     "output_type": "execute_result"
    }
   ],
   "source": [
    "f.columns"
   ]
  },
  {
   "cell_type": "markdown",
   "metadata": {},
   "source": [
    "# Checking types of variables and % of nulls: "
   ]
  },
  {
   "cell_type": "code",
   "execution_count": 38,
   "metadata": {
    "collapsed": false,
    "scrolled": false
   },
   "outputs": [
    {
     "name": "stdout",
     "output_type": "stream",
     "text": [
      "                         Dtype  Nulls  Sum_of_nulls  Per_of_nulls\n",
      "adult                   object  False             0          0.00\n",
      "belongs_to_collection   object   True         40972         90.12\n",
      "budget                  object  False             0          0.00\n",
      "genres                  object  False             0          0.00\n",
      "homepage                object   True         37684         82.88\n",
      "id                      object  False             0          0.00\n",
      "imdb_id                 object   True            17          0.04\n",
      "original_language       object   True            11          0.02\n",
      "original_title          object  False             0          0.00\n",
      "overview                object   True           954          2.10\n",
      "popularity              object   True             5          0.01\n",
      "poster_path             object   True           386          0.85\n",
      "production_companies    object   True             3          0.01\n",
      "production_countries    object   True             3          0.01\n",
      "release_date            object   True            87          0.19\n",
      "revenue                float64   True             6          0.01\n",
      "runtime                float64   True           263          0.58\n",
      "spoken_languages        object   True             6          0.01\n",
      "status                  object   True            87          0.19\n",
      "tagline                 object   True         25054         55.10\n",
      "title                   object   True             6          0.01\n",
      "video                   object   True             6          0.01\n",
      "vote_average           float64   True             6          0.01\n",
      "vote_count             float64   True             6          0.01\n"
     ]
    }
   ],
   "source": [
    "summary = pd.DataFrame(f.dtypes, columns=['Dtype'])\n",
    "summary['Nulls'] = pd.DataFrame(f.isnull().any())\n",
    "summary['Sum_of_nulls'] = pd.DataFrame(f.isnull().sum())\n",
    "summary['Per_of_nulls'] = round((f.apply(pd.isnull).mean()*100),2)\n",
    "summary.Dtype = summary.Dtype.astype(str)\n",
    "print(summary)"
   ]
  },
  {
   "cell_type": "code",
   "execution_count": 39,
   "metadata": {
    "collapsed": false
   },
   "outputs": [
    {
     "data": {
      "text/html": [
       "<div>\n",
       "<table border=\"1\" class=\"dataframe\">\n",
       "  <thead>\n",
       "    <tr style=\"text-align: right;\">\n",
       "      <th></th>\n",
       "      <th>adult</th>\n",
       "      <th>belongs_to_collection</th>\n",
       "      <th>budget</th>\n",
       "      <th>genres</th>\n",
       "      <th>homepage</th>\n",
       "      <th>id</th>\n",
       "      <th>imdb_id</th>\n",
       "      <th>original_language</th>\n",
       "      <th>original_title</th>\n",
       "      <th>overview</th>\n",
       "      <th>popularity</th>\n",
       "      <th>poster_path</th>\n",
       "      <th>production_companies</th>\n",
       "      <th>production_countries</th>\n",
       "      <th>release_date</th>\n",
       "      <th>spoken_languages</th>\n",
       "      <th>status</th>\n",
       "      <th>tagline</th>\n",
       "      <th>title</th>\n",
       "      <th>video</th>\n",
       "    </tr>\n",
       "  </thead>\n",
       "  <tbody>\n",
       "    <tr>\n",
       "      <th>count</th>\n",
       "      <td>45466</td>\n",
       "      <td>4494</td>\n",
       "      <td>45466</td>\n",
       "      <td>45466</td>\n",
       "      <td>7782</td>\n",
       "      <td>45466</td>\n",
       "      <td>45449</td>\n",
       "      <td>45455</td>\n",
       "      <td>45466</td>\n",
       "      <td>44512</td>\n",
       "      <td>45461</td>\n",
       "      <td>45080</td>\n",
       "      <td>45463</td>\n",
       "      <td>45463</td>\n",
       "      <td>45379</td>\n",
       "      <td>45460</td>\n",
       "      <td>45379</td>\n",
       "      <td>20412</td>\n",
       "      <td>45460</td>\n",
       "      <td>45460</td>\n",
       "    </tr>\n",
       "    <tr>\n",
       "      <th>unique</th>\n",
       "      <td>5</td>\n",
       "      <td>1698</td>\n",
       "      <td>1226</td>\n",
       "      <td>4069</td>\n",
       "      <td>7673</td>\n",
       "      <td>45436</td>\n",
       "      <td>45417</td>\n",
       "      <td>92</td>\n",
       "      <td>43373</td>\n",
       "      <td>44307</td>\n",
       "      <td>44176</td>\n",
       "      <td>45024</td>\n",
       "      <td>22708</td>\n",
       "      <td>2393</td>\n",
       "      <td>17336</td>\n",
       "      <td>1931</td>\n",
       "      <td>6</td>\n",
       "      <td>20283</td>\n",
       "      <td>42277</td>\n",
       "      <td>2</td>\n",
       "    </tr>\n",
       "    <tr>\n",
       "      <th>top</th>\n",
       "      <td>False</td>\n",
       "      <td>{'id': 415931, 'name': 'The Bowery Boys', 'pos...</td>\n",
       "      <td>0</td>\n",
       "      <td>[{'id': 18, 'name': 'Drama'}]</td>\n",
       "      <td>http://www.georgecarlin.com</td>\n",
       "      <td>141971</td>\n",
       "      <td>0</td>\n",
       "      <td>en</td>\n",
       "      <td>Alice in Wonderland</td>\n",
       "      <td>No overview found.</td>\n",
       "      <td>0.0</td>\n",
       "      <td>/5D7UBSEgdyONE6Lql6xS7s6OLcW.jpg</td>\n",
       "      <td>[]</td>\n",
       "      <td>[{'iso_3166_1': 'US', 'name': 'United States o...</td>\n",
       "      <td>2008-01-01</td>\n",
       "      <td>[{'iso_639_1': 'en', 'name': 'English'}]</td>\n",
       "      <td>Released</td>\n",
       "      <td>Based on a true story.</td>\n",
       "      <td>Cinderella</td>\n",
       "      <td>False</td>\n",
       "    </tr>\n",
       "    <tr>\n",
       "      <th>freq</th>\n",
       "      <td>45454</td>\n",
       "      <td>29</td>\n",
       "      <td>36573</td>\n",
       "      <td>5000</td>\n",
       "      <td>12</td>\n",
       "      <td>3</td>\n",
       "      <td>3</td>\n",
       "      <td>32269</td>\n",
       "      <td>8</td>\n",
       "      <td>133</td>\n",
       "      <td>34</td>\n",
       "      <td>5</td>\n",
       "      <td>11875</td>\n",
       "      <td>17851</td>\n",
       "      <td>136</td>\n",
       "      <td>22395</td>\n",
       "      <td>45014</td>\n",
       "      <td>7</td>\n",
       "      <td>11</td>\n",
       "      <td>45367</td>\n",
       "    </tr>\n",
       "  </tbody>\n",
       "</table>\n",
       "</div>"
      ],
      "text/plain": [
       "        adult                              belongs_to_collection budget  \\\n",
       "count   45466                                               4494  45466   \n",
       "unique      5                                               1698   1226   \n",
       "top     False  {'id': 415931, 'name': 'The Bowery Boys', 'pos...      0   \n",
       "freq    45454                                                 29  36573   \n",
       "\n",
       "                               genres                     homepage      id  \\\n",
       "count                           45466                         7782   45466   \n",
       "unique                           4069                         7673   45436   \n",
       "top     [{'id': 18, 'name': 'Drama'}]  http://www.georgecarlin.com  141971   \n",
       "freq                             5000                           12       3   \n",
       "\n",
       "       imdb_id original_language       original_title            overview  \\\n",
       "count    45449             45455                45466               44512   \n",
       "unique   45417                92                43373               44307   \n",
       "top          0                en  Alice in Wonderland  No overview found.   \n",
       "freq         3             32269                    8                 133   \n",
       "\n",
       "       popularity                       poster_path production_companies  \\\n",
       "count       45461                             45080                45463   \n",
       "unique      44176                             45024                22708   \n",
       "top           0.0  /5D7UBSEgdyONE6Lql6xS7s6OLcW.jpg                   []   \n",
       "freq           34                                 5                11875   \n",
       "\n",
       "                                     production_countries release_date  \\\n",
       "count                                               45463        45379   \n",
       "unique                                               2393        17336   \n",
       "top     [{'iso_3166_1': 'US', 'name': 'United States o...   2008-01-01   \n",
       "freq                                                17851          136   \n",
       "\n",
       "                                spoken_languages    status  \\\n",
       "count                                      45460     45379   \n",
       "unique                                      1931         6   \n",
       "top     [{'iso_639_1': 'en', 'name': 'English'}]  Released   \n",
       "freq                                       22395     45014   \n",
       "\n",
       "                       tagline       title  video  \n",
       "count                    20412       45460  45460  \n",
       "unique                   20283       42277      2  \n",
       "top     Based on a true story.  Cinderella  False  \n",
       "freq                         7          11  45367  "
      ]
     },
     "execution_count": 39,
     "metadata": {},
     "output_type": "execute_result"
    }
   ],
   "source": [
    "f.select_dtypes(exclude = ['float', 'int']).describe()"
   ]
  },
  {
   "cell_type": "markdown",
   "metadata": {
    "collapsed": true
   },
   "source": [
    "# Preper the data for analysis"
   ]
  },
  {
   "cell_type": "markdown",
   "metadata": {},
   "source": [
    "# 1.Cleaning "
   ]
  },
  {
   "cell_type": "markdown",
   "metadata": {},
   "source": [
    "In the beginning, I'll check each variable and decide which of them are relevent. \n",
    "\n",
    "These id columns should be dropped: \n",
    "    id,\n",
    "    imdb_id; \n",
    "\n",
    "The following columns have more than 55% nulls so they also should be deleted:\n",
    "    belongs_to_collection, \n",
    "    homepage,\n",
    "    taglile,\n",
    "\n",
    "Now let's take a look for the following features:\n",
    "    adult,\n",
    "    overview,\n",
    "    poster_path,\n",
    "    status,\n",
    "    video,\n",
    "    original_title.    "
   ]
  },
  {
   "cell_type": "code",
   "execution_count": 40,
   "metadata": {
    "collapsed": false
   },
   "outputs": [
    {
     "data": {
      "text/plain": [
       "False                                                                                                                             45454\n",
       "True                                                                                                                                  9\n",
       " Avalanche Sharks tells the story of a bikini contest that turns into a horrifying affair when it is hit by a shark avalanche.        1\n",
       " - Written by Ørnås                                                                                                                   1\n",
       " Rune Balot goes to a casino connected to the October corporation to try to wrap up her case once and for all.                        1\n",
       "Name: adult, dtype: int64"
      ]
     },
     "execution_count": 40,
     "metadata": {},
     "output_type": "execute_result"
    }
   ],
   "source": [
    "f.adult.value_counts()   \n",
    "# We see that we have only 9 adult movies, so  adult feature doesn't tell us a lot and should be deleted. "
   ]
  },
  {
   "cell_type": "code",
   "execution_count": 41,
   "metadata": {
    "collapsed": false
   },
   "outputs": [
    {
     "data": {
      "text/plain": [
       "0    /rhIRbceoE9lR4veEXuwCC2wARtG.jpg\n",
       "1    /vzmL6fP7aPKNKPRTFnZmiUfciyV.jpg\n",
       "2    /6ksm1sjKMFLbO7UY2i6G1ju9SML.jpg\n",
       "3    /16XOMpEaLWkrcPqSQqhTmeJuqQl.jpg\n",
       "4    /e64sOI48hQXyru7naBFyssKFxVd.jpg\n",
       "Name: poster_path, dtype: object"
      ]
     },
     "execution_count": 41,
     "metadata": {},
     "output_type": "execute_result"
    }
   ],
   "source": [
    "f.poster_path.head()   \n",
    "# there is the URL of the poster image, so I drop it. "
   ]
  },
  {
   "cell_type": "code",
   "execution_count": 42,
   "metadata": {
    "collapsed": false
   },
   "outputs": [
    {
     "data": {
      "text/html": [
       "<div>\n",
       "<table border=\"1\" class=\"dataframe\">\n",
       "  <thead>\n",
       "    <tr style=\"text-align: right;\">\n",
       "      <th></th>\n",
       "      <th>title</th>\n",
       "      <th>original_title</th>\n",
       "    </tr>\n",
       "  </thead>\n",
       "  <tbody>\n",
       "    <tr>\n",
       "      <th>28</th>\n",
       "      <td>The City of Lost Children</td>\n",
       "      <td>La Cité des Enfants Perdus</td>\n",
       "    </tr>\n",
       "    <tr>\n",
       "      <th>29</th>\n",
       "      <td>Shanghai Triad</td>\n",
       "      <td>摇啊摇，摇到外婆桥</td>\n",
       "    </tr>\n",
       "    <tr>\n",
       "      <th>32</th>\n",
       "      <td>Wings of Courage</td>\n",
       "      <td>Guillaumet, les ailes du courage</td>\n",
       "    </tr>\n",
       "    <tr>\n",
       "      <th>57</th>\n",
       "      <td>The Postman</td>\n",
       "      <td>Il postino</td>\n",
       "    </tr>\n",
       "    <tr>\n",
       "      <th>58</th>\n",
       "      <td>The Confessional</td>\n",
       "      <td>Le confessionnal</td>\n",
       "    </tr>\n",
       "  </tbody>\n",
       "</table>\n",
       "</div>"
      ],
      "text/plain": [
       "                        title                    original_title\n",
       "28  The City of Lost Children        La Cité des Enfants Perdus\n",
       "29             Shanghai Triad                         摇啊摇，摇到外婆桥\n",
       "32           Wings of Courage  Guillaumet, les ailes du courage\n",
       "57                The Postman                        Il postino\n",
       "58           The Confessional                  Le confessionnal"
      ]
     },
     "execution_count": 42,
     "metadata": {},
     "output_type": "execute_result"
    }
   ],
   "source": [
    "f[f['original_title'] != f['title']][['title', 'original_title']].head()\n",
    "# Original title is title of the movie in the native language, so we can drop it. "
   ]
  },
  {
   "cell_type": "code",
   "execution_count": 43,
   "metadata": {
    "collapsed": false
   },
   "outputs": [
    {
     "data": {
      "text/plain": [
       "Released           45014\n",
       "Rumored              230\n",
       "Post Production       98\n",
       "In Production         20\n",
       "Planned               15\n",
       "Canceled               2\n",
       "Name: status, dtype: int64"
      ]
     },
     "execution_count": 43,
     "metadata": {},
     "output_type": "execute_result"
    }
   ],
   "source": [
    "f['status'].value_counts()\n",
    "# The majority od the films have already been released, so we can drop it. "
   ]
  },
  {
   "cell_type": "code",
   "execution_count": 44,
   "metadata": {
    "collapsed": false
   },
   "outputs": [
    {
     "data": {
      "text/plain": [
       "False    45367\n",
       "True        93\n",
       "Name: video, dtype: int64"
      ]
     },
     "execution_count": 44,
     "metadata": {},
     "output_type": "execute_result"
    }
   ],
   "source": [
    "f.video.value_counts()\n",
    "#Video has 2 category. There is less than 1% of film which has video, so I'll drop this value. "
   ]
  },
  {
   "cell_type": "code",
   "execution_count": 45,
   "metadata": {
    "collapsed": false
   },
   "outputs": [
    {
     "data": {
      "text/plain": [
       "0    Led by Woody, Andy's toys live happily in his ...\n",
       "1    When siblings Judy and Peter discover an encha...\n",
       "2    A family wedding reignites the ancient feud be...\n",
       "3    Cheated on, mistreated and stepped on, the wom...\n",
       "4    Just when George Banks has recovered from his ...\n",
       "Name: overview, dtype: object"
      ]
     },
     "execution_count": 45,
     "metadata": {},
     "output_type": "execute_result"
    }
   ],
   "source": [
    "f.overview.head()   \n",
    "# Overview is a short description the movie, so it also can be dropped. "
   ]
  },
  {
   "cell_type": "markdown",
   "metadata": {},
   "source": [
    "# 2. Data transformation"
   ]
  },
  {
   "cell_type": "code",
   "execution_count": 46,
   "metadata": {
    "collapsed": false
   },
   "outputs": [
    {
     "data": {
      "text/plain": [
       "0            36573\n",
       "5000000        286\n",
       "10000000       259\n",
       "20000000       243\n",
       "2000000        242\n",
       "15000000       226\n",
       "3000000        223\n",
       "25000000       206\n",
       "1000000        197\n",
       "30000000       190\n",
       "4000000        181\n",
       "6000000        174\n",
       "12000000       172\n",
       "40000000       167\n",
       "8000000        155\n",
       "500000         142\n",
       "35000000       141\n",
       "7000000        137\n",
       "50000000       124\n",
       "1500000        120\n",
       "60000000       110\n",
       "18000000       105\n",
       "3500000        103\n",
       "2500000        100\n",
       "13000000        89\n",
       "9000000         87\n",
       "11000000        83\n",
       "14000000        76\n",
       "16000000        75\n",
       "17000000        71\n",
       "             ...  \n",
       "996519           1\n",
       "2135161          1\n",
       "218              1\n",
       "4490331          1\n",
       "5510000          1\n",
       "41000            1\n",
       "117000000        1\n",
       "310000           1\n",
       "12902809         1\n",
       "18700000         1\n",
       "2361000          1\n",
       "2745000          1\n",
       "346500           1\n",
       "2349352          1\n",
       "3537415          1\n",
       "1089360          1\n",
       "51237            1\n",
       "530000           1\n",
       "1730000          1\n",
       "10750000         1\n",
       "139000000        1\n",
       "722083           1\n",
       "11180            1\n",
       "11791            1\n",
       "3684600          1\n",
       "4798235          1\n",
       "28               1\n",
       "560              1\n",
       "2907868          1\n",
       "11178            1\n",
       "Name: budget, dtype: int64"
      ]
     },
     "execution_count": 46,
     "metadata": {},
     "output_type": "execute_result"
    }
   ],
   "source": [
    "f.budget.value_counts()  "
   ]
  },
  {
   "cell_type": "code",
   "execution_count": 47,
   "metadata": {
    "collapsed": false
   },
   "outputs": [],
   "source": [
    "f['budget'] = pd.to_numeric(f['budget'], errors='coerce')\n",
    "f['budget'] = f['budget'].replace(0, np.nan)\n",
    "\n",
    "# Budget - I change this variable into numeric and replace 0 value into Nan. "
   ]
  },
  {
   "cell_type": "code",
   "execution_count": 48,
   "metadata": {
    "collapsed": false
   },
   "outputs": [
    {
     "data": {
      "text/plain": [
       "count    4.546000e+04\n",
       "mean     1.120935e+07\n",
       "std      6.433225e+07\n",
       "min      0.000000e+00\n",
       "25%      0.000000e+00\n",
       "50%      0.000000e+00\n",
       "75%      0.000000e+00\n",
       "max      2.787965e+09\n",
       "Name: revenue, dtype: float64"
      ]
     },
     "execution_count": 48,
     "metadata": {},
     "output_type": "execute_result"
    }
   ],
   "source": [
    "f.revenue.describe()"
   ]
  },
  {
   "cell_type": "code",
   "execution_count": 49,
   "metadata": {
    "collapsed": true
   },
   "outputs": [],
   "source": [
    "# Revenue - I replaced 0 value into Nan."
   ]
  },
  {
   "cell_type": "code",
   "execution_count": 50,
   "metadata": {
    "collapsed": true
   },
   "outputs": [],
   "source": [
    "f['revenue'] = pd.to_numeric(f['revenue'], errors='coerce')\n",
    "f['revenue'] = f['revenue'].replace(0, np.nan)"
   ]
  },
  {
   "cell_type": "code",
   "execution_count": 51,
   "metadata": {
    "collapsed": false
   },
   "outputs": [
    {
     "data": {
      "text/plain": [
       "0    373554033.0\n",
       "1    262797249.0\n",
       "2            NaN\n",
       "3     81452156.0\n",
       "4     76578911.0\n",
       "Name: revenue, dtype: float64"
      ]
     },
     "execution_count": 51,
     "metadata": {},
     "output_type": "execute_result"
    }
   ],
   "source": [
    "f.revenue.head()"
   ]
  },
  {
   "cell_type": "code",
   "execution_count": 52,
   "metadata": {
    "collapsed": false
   },
   "outputs": [
    {
     "data": {
      "text/plain": [
       "count    8.890000e+03\n",
       "mean     2.160428e+07\n",
       "std      3.431063e+07\n",
       "min      1.000000e+00\n",
       "25%      2.000000e+06\n",
       "50%      8.000000e+06\n",
       "75%      2.500000e+07\n",
       "max      3.800000e+08\n",
       "Name: budget, dtype: float64"
      ]
     },
     "execution_count": 52,
     "metadata": {},
     "output_type": "execute_result"
    }
   ],
   "source": [
    "f.budget.describe()"
   ]
  },
  {
   "cell_type": "code",
   "execution_count": 53,
   "metadata": {
    "collapsed": false
   },
   "outputs": [
    {
     "data": {
      "text/plain": [
       "count    7.408000e+03\n",
       "mean     6.878739e+07\n",
       "std      1.464203e+08\n",
       "min      1.000000e+00\n",
       "25%      2.400000e+06\n",
       "50%      1.682272e+07\n",
       "75%      6.722707e+07\n",
       "max      2.787965e+09\n",
       "Name: revenue, dtype: float64"
      ]
     },
     "execution_count": 53,
     "metadata": {},
     "output_type": "execute_result"
    }
   ],
   "source": [
    "f.revenue.describe()"
   ]
  },
  {
   "cell_type": "code",
   "execution_count": 54,
   "metadata": {
    "collapsed": false
   },
   "outputs": [
    {
     "data": {
      "text/plain": [
       "0    343554033.0\n",
       "1    197797249.0\n",
       "2            NaN\n",
       "3     65452156.0\n",
       "4            NaN\n",
       "Name: profit, dtype: float64"
      ]
     },
     "execution_count": 54,
     "metadata": {},
     "output_type": "execute_result"
    }
   ],
   "source": [
    "# Based on revenue and budget features I'll calculate the profit of the film. \n",
    "\n",
    "f['profit'] = f['revenue'] - f['budget']\n",
    "f.profit.head()"
   ]
  },
  {
   "cell_type": "code",
   "execution_count": 55,
   "metadata": {
    "collapsed": false
   },
   "outputs": [
    {
     "data": {
      "text/plain": [
       "count     45461\n",
       "unique    44176\n",
       "top         0.0\n",
       "freq         34\n",
       "Name: popularity, dtype: object"
      ]
     },
     "execution_count": 55,
     "metadata": {},
     "output_type": "execute_result"
    }
   ],
   "source": [
    "f.popularity.describe()"
   ]
  },
  {
   "cell_type": "code",
   "execution_count": 56,
   "metadata": {
    "collapsed": true
   },
   "outputs": [],
   "source": [
    "# Popularity - I change this variable into numeric. \n",
    "f['popularity'] = pd.to_numeric(f['popularity'], errors='coerce')"
   ]
  },
  {
   "cell_type": "code",
   "execution_count": 57,
   "metadata": {
    "collapsed": false
   },
   "outputs": [
    {
     "data": {
      "text/plain": [
       "True"
      ]
     },
     "execution_count": 57,
     "metadata": {},
     "output_type": "execute_result"
    }
   ],
   "source": [
    "pd.isnull(f['popularity']).sum() > 0"
   ]
  },
  {
   "cell_type": "code",
   "execution_count": 58,
   "metadata": {
    "collapsed": false
   },
   "outputs": [
    {
     "data": {
      "text/plain": [
       "count    45460.000000\n",
       "mean         2.921478\n",
       "std          6.005414\n",
       "min          0.000000\n",
       "25%          0.385948\n",
       "50%          1.127685\n",
       "75%          3.678902\n",
       "max        547.488298\n",
       "Name: popularity, dtype: float64"
      ]
     },
     "execution_count": 58,
     "metadata": {},
     "output_type": "execute_result"
    }
   ],
   "source": [
    "f.popularity.describe()"
   ]
  },
  {
   "cell_type": "code",
   "execution_count": 59,
   "metadata": {
    "collapsed": true
   },
   "outputs": [],
   "source": [
    "# Nan will be replaced by median \n",
    "f['popularity'] = f['popularity'].fillna(f['popularity'].median())"
   ]
  },
  {
   "cell_type": "code",
   "execution_count": 60,
   "metadata": {
    "collapsed": false
   },
   "outputs": [
    {
     "data": {
      "text/plain": [
       "False"
      ]
     },
     "execution_count": 60,
     "metadata": {},
     "output_type": "execute_result"
    }
   ],
   "source": [
    "pd.isnull(f['popularity']).sum() > 0"
   ]
  },
  {
   "cell_type": "code",
   "execution_count": 62,
   "metadata": {
    "collapsed": true
   },
   "outputs": [],
   "source": [
    "#Vote_average, Vote_count "
   ]
  },
  {
   "cell_type": "code",
   "execution_count": 63,
   "metadata": {
    "collapsed": false
   },
   "outputs": [
    {
     "data": {
      "text/plain": [
       "0.0    2998\n",
       "6.0    2468\n",
       "5.0    2001\n",
       "7.0    1886\n",
       "6.5    1722\n",
       "6.3    1603\n",
       "5.5    1381\n",
       "5.8    1369\n",
       "6.4    1350\n",
       "6.7    1342\n",
       "6.8    1324\n",
       "6.1    1281\n",
       "6.6    1263\n",
       "6.2    1253\n",
       "5.9    1196\n",
       "5.3    1082\n",
       "5.7    1046\n",
       "6.9    1037\n",
       "5.6    1006\n",
       "7.3    1000\n",
       "5.4     916\n",
       "7.1     879\n",
       "7.5     851\n",
       "7.2     807\n",
       "8.0     765\n",
       "7.4     691\n",
       "5.2     690\n",
       "4.0     685\n",
       "4.8     663\n",
       "5.1     642\n",
       "       ... \n",
       "3.1      49\n",
       "2.3      45\n",
       "8.7      45\n",
       "2.7      44\n",
       "2.9      40\n",
       "8.8      32\n",
       "2.6      31\n",
       "1.5      30\n",
       "8.6      25\n",
       "2.2      20\n",
       "2.4      19\n",
       "9.5      18\n",
       "9.3      18\n",
       "2.1      16\n",
       "1.7      13\n",
       "1.3      13\n",
       "0.5      13\n",
       "1.8       9\n",
       "1.9       8\n",
       "8.9       7\n",
       "1.6       6\n",
       "1.4       5\n",
       "9.2       4\n",
       "1.2       4\n",
       "9.1       3\n",
       "9.4       3\n",
       "9.8       1\n",
       "0.7       1\n",
       "9.6       1\n",
       "1.1       1\n",
       "Name: vote_average, dtype: int64"
      ]
     },
     "execution_count": 63,
     "metadata": {},
     "output_type": "execute_result"
    }
   ],
   "source": [
    "f.vote_average.value_counts()"
   ]
  },
  {
   "cell_type": "code",
   "execution_count": 64,
   "metadata": {
    "collapsed": true
   },
   "outputs": [],
   "source": [
    "f['vote_average'] = f['vote_average'].replace(0, np.nan)\n",
    "# I replaced 0 value into Nan."
   ]
  },
  {
   "cell_type": "code",
   "execution_count": 65,
   "metadata": {
    "collapsed": false
   },
   "outputs": [
    {
     "data": {
      "text/plain": [
       "count    42462.000000\n",
       "mean         6.014877\n",
       "std          1.256208\n",
       "min          0.500000\n",
       "25%          5.300000\n",
       "50%          6.100000\n",
       "75%          6.900000\n",
       "max         10.000000\n",
       "Name: vote_average, dtype: float64"
      ]
     },
     "execution_count": 65,
     "metadata": {},
     "output_type": "execute_result"
    }
   ],
   "source": [
    "f['vote_average'].describe() "
   ]
  },
  {
   "cell_type": "code",
   "execution_count": 244,
   "metadata": {
    "collapsed": false
   },
   "outputs": [
    {
     "data": {
      "text/plain": [
       "6.1"
      ]
     },
     "execution_count": 244,
     "metadata": {},
     "output_type": "execute_result"
    }
   ],
   "source": [
    "f['vote_average'].median() "
   ]
  },
  {
   "cell_type": "code",
   "execution_count": 245,
   "metadata": {
    "collapsed": false
   },
   "outputs": [
    {
     "data": {
      "text/plain": [
       "count    45460.000000\n",
       "mean       109.897338\n",
       "std        491.310374\n",
       "min          0.000000\n",
       "25%          3.000000\n",
       "50%         10.000000\n",
       "75%         34.000000\n",
       "max      14075.000000\n",
       "Name: vote_count, dtype: float64"
      ]
     },
     "execution_count": 245,
     "metadata": {},
     "output_type": "execute_result"
    }
   ],
   "source": [
    "f['vote_count'].describe()"
   ]
  },
  {
   "cell_type": "code",
   "execution_count": 67,
   "metadata": {
    "collapsed": false
   },
   "outputs": [],
   "source": [
    "f['vote_count'] = pd.to_numeric(f['vote_count'], errors='coerce')\n",
    "f['vote_count'] = f['vote_count'].replace(0, np.nan)\n",
    "\n",
    "# Vote count - I change this variable into numeric and replace 0 value into Nan. "
   ]
  },
  {
   "cell_type": "code",
   "execution_count": 68,
   "metadata": {
    "collapsed": true
   },
   "outputs": [],
   "source": [
    "#Nan will be replaced by median. \n",
    "f['vote_count'] = f['vote_count'].fillna(f['vote_count'].median())"
   ]
  },
  {
   "cell_type": "code",
   "execution_count": 69,
   "metadata": {
    "collapsed": false
   },
   "outputs": [
    {
     "data": {
      "text/plain": [
       "count    45466.000000\n",
       "mean       110.585668\n",
       "std        491.129715\n",
       "min          1.000000\n",
       "25%          4.000000\n",
       "50%         11.000000\n",
       "75%         34.000000\n",
       "max      14075.000000\n",
       "Name: vote_count, dtype: float64"
      ]
     },
     "execution_count": 69,
     "metadata": {},
     "output_type": "execute_result"
    }
   ],
   "source": [
    "f['vote_count'].describe()"
   ]
  },
  {
   "cell_type": "code",
   "execution_count": 70,
   "metadata": {
    "collapsed": false
   },
   "outputs": [
    {
     "data": {
      "text/plain": [
       "en       32269\n",
       "fr        2438\n",
       "it        1529\n",
       "ja        1350\n",
       "de        1080\n",
       "es         994\n",
       "ru         826\n",
       "hi         508\n",
       "ko         444\n",
       "zh         409\n",
       "sv         384\n",
       "pt         316\n",
       "cn         313\n",
       "fi         297\n",
       "nl         248\n",
       "da         225\n",
       "pl         219\n",
       "tr         150\n",
       "cs         130\n",
       "el         113\n",
       "no         106\n",
       "fa         101\n",
       "hu         100\n",
       "ta          78\n",
       "th          76\n",
       "he          67\n",
       "sr          63\n",
       "ro          57\n",
       "te          45\n",
       "ar          39\n",
       "         ...  \n",
       "kk           3\n",
       "am           2\n",
       "ps           2\n",
       "bo           2\n",
       "ne           2\n",
       "af           2\n",
       "iu           2\n",
       "mn           2\n",
       "pa           2\n",
       "lo           2\n",
       "uz           1\n",
       "si           1\n",
       "eo           1\n",
       "jv           1\n",
       "rw           1\n",
       "82.0         1\n",
       "tg           1\n",
       "la           1\n",
       "cy           1\n",
       "sm           1\n",
       "gl           1\n",
       "zu           1\n",
       "lb           1\n",
       "ay           1\n",
       "68.0         1\n",
       "104.0        1\n",
       "mt           1\n",
       "fy           1\n",
       "qu           1\n",
       "hy           1\n",
       "Name: original_language, dtype: int64"
      ]
     },
     "execution_count": 70,
     "metadata": {},
     "output_type": "execute_result"
    }
   ],
   "source": [
    "f.original_language.value_counts()  "
   ]
  },
  {
   "cell_type": "code",
   "execution_count": 71,
   "metadata": {
    "collapsed": false
   },
   "outputs": [],
   "source": [
    "# Majority of the movies in the dataset are English (more than 32000). Thus, I'll split this variable into\n",
    "# 2 categories: english and non-english.\n",
    "\n",
    "f.original_language[f.original_language!='en']=1"
   ]
  },
  {
   "cell_type": "code",
   "execution_count": 72,
   "metadata": {
    "collapsed": false
   },
   "outputs": [],
   "source": [
    "f.original_language[f.original_language=='en']=0"
   ]
  },
  {
   "cell_type": "code",
   "execution_count": 73,
   "metadata": {
    "collapsed": true
   },
   "outputs": [],
   "source": [
    "f['original_language'] = pd.to_numeric(f['original_language'], errors='coerce')"
   ]
  },
  {
   "cell_type": "code",
   "execution_count": 74,
   "metadata": {
    "collapsed": false
   },
   "outputs": [
    {
     "data": {
      "text/plain": [
       "0    32269\n",
       "1    13197\n",
       "Name: original_language, dtype: int64"
      ]
     },
     "execution_count": 74,
     "metadata": {},
     "output_type": "execute_result"
    }
   ],
   "source": [
    "f.original_language.value_counts()"
   ]
  },
  {
   "cell_type": "code",
   "execution_count": 75,
   "metadata": {
    "collapsed": false
   },
   "outputs": [
    {
     "data": {
      "text/plain": [
       "0        [{'name': 'Pixar Animation Studios', 'id': 3}]\n",
       "1     [{'name': 'TriStar Pictures', 'id': 559}, {'na...\n",
       "2     [{'name': 'Warner Bros.', 'id': 6194}, {'name'...\n",
       "3     [{'name': 'Twentieth Century Fox Film Corporat...\n",
       "4     [{'name': 'Sandollar Productions', 'id': 5842}...\n",
       "5     [{'name': 'Regency Enterprises', 'id': 508}, {...\n",
       "6     [{'name': 'Paramount Pictures', 'id': 4}, {'na...\n",
       "7           [{'name': 'Walt Disney Pictures', 'id': 2}]\n",
       "8     [{'name': 'Universal Pictures', 'id': 33}, {'n...\n",
       "9     [{'name': 'United Artists', 'id': 60}, {'name'...\n",
       "10    [{'name': 'Columbia Pictures', 'id': 5}, {'nam...\n",
       "11    [{'name': 'Columbia Pictures', 'id': 5}, {'nam...\n",
       "12    [{'name': 'Universal Pictures', 'id': 33}, {'n...\n",
       "13    [{'name': 'Hollywood Pictures', 'id': 915}, {'...\n",
       "14    [{'name': 'Le Studio Canal+', 'id': 183}, {'na...\n",
       "15    [{'name': 'Universal Pictures', 'id': 33}, {'n...\n",
       "16    [{'name': 'Columbia Pictures Corporation', 'id...\n",
       "17    [{'name': 'Miramax Films', 'id': 14}, {'name':...\n",
       "18    [{'name': 'O Entertainment', 'id': 5682}, {'na...\n",
       "19             [{'name': 'Columbia Pictures', 'id': 5}]\n",
       "Name: production_companies, dtype: object"
      ]
     },
     "execution_count": 75,
     "metadata": {},
     "output_type": "execute_result"
    }
   ],
   "source": [
    "f.production_companies.head(20)"
   ]
  },
  {
   "cell_type": "code",
   "execution_count": 76,
   "metadata": {
    "collapsed": false
   },
   "outputs": [],
   "source": [
    "f['production_companies'] = f['production_companies'].fillna('[]').apply(ast.literal_eval)\n",
    "f['production_companies'] = f['production_companies'].apply(lambda x: [i['name'] for i in x] if isinstance(x, list) else [])\n",
    "\n",
    "# Production companies - converting string into dictionary. "
   ]
  },
  {
   "cell_type": "code",
   "execution_count": 77,
   "metadata": {
    "collapsed": false
   },
   "outputs": [
    {
     "data": {
      "text/plain": [
       "0                            [Pixar Animation Studios]\n",
       "1    [TriStar Pictures, Teitler Film, Interscope Co...\n",
       "2                       [Warner Bros., Lancaster Gate]\n",
       "3             [Twentieth Century Fox Film Corporation]\n",
       "4         [Sandollar Productions, Touchstone Pictures]\n",
       "Name: production_companies, dtype: object"
      ]
     },
     "execution_count": 77,
     "metadata": {},
     "output_type": "execute_result"
    }
   ],
   "source": [
    "f['production_companies'].head()"
   ]
  },
  {
   "cell_type": "code",
   "execution_count": 78,
   "metadata": {
    "collapsed": false
   },
   "outputs": [],
   "source": [
    "f['production_companies'] = f['production_companies'].apply(lambda x: len(x))\n",
    "# Production companies - I replaced it with the number of production companies to make the movie. "
   ]
  },
  {
   "cell_type": "code",
   "execution_count": 83,
   "metadata": {
    "collapsed": false
   },
   "outputs": [
    {
     "data": {
      "text/plain": [
       "1     16577\n",
       "0     11881\n",
       "2      7963\n",
       "3      4716\n",
       "4      1948\n",
       "5       950\n",
       "6       563\n",
       "7       314\n",
       "8       180\n",
       "9       133\n",
       "10       67\n",
       "11       42\n",
       "12       35\n",
       "16       21\n",
       "13       19\n",
       "14       16\n",
       "15        9\n",
       "17        7\n",
       "19        5\n",
       "20        5\n",
       "21        4\n",
       "18        3\n",
       "22        3\n",
       "26        3\n",
       "25        1\n",
       "24        1\n",
       "Name: production_companies, dtype: int64"
      ]
     },
     "execution_count": 83,
     "metadata": {},
     "output_type": "execute_result"
    }
   ],
   "source": [
    "f['production_companies'].value_counts()"
   ]
  },
  {
   "cell_type": "code",
   "execution_count": 84,
   "metadata": {
    "collapsed": false
   },
   "outputs": [
    {
     "data": {
      "text/plain": [
       "[{'iso_3166_1': 'US', 'name': 'United States of America'}]                                                                                                                                                         17851\n",
       "[]                                                                                                                                                                                                                  6282\n",
       "[{'iso_3166_1': 'GB', 'name': 'United Kingdom'}]                                                                                                                                                                    2238\n",
       "[{'iso_3166_1': 'FR', 'name': 'France'}]                                                                                                                                                                            1654\n",
       "[{'iso_3166_1': 'JP', 'name': 'Japan'}]                                                                                                                                                                             1356\n",
       "[{'iso_3166_1': 'IT', 'name': 'Italy'}]                                                                                                                                                                             1030\n",
       "[{'iso_3166_1': 'CA', 'name': 'Canada'}]                                                                                                                                                                             840\n",
       "[{'iso_3166_1': 'DE', 'name': 'Germany'}]                                                                                                                                                                            749\n",
       "[{'iso_3166_1': 'IN', 'name': 'India'}]                                                                                                                                                                              735\n",
       "[{'iso_3166_1': 'RU', 'name': 'Russia'}]                                                                                                                                                                             735\n",
       "[{'iso_3166_1': 'GB', 'name': 'United Kingdom'}, {'iso_3166_1': 'US', 'name': 'United States of America'}]                                                                                                           569\n",
       "[{'iso_3166_1': 'KR', 'name': 'South Korea'}]                                                                                                                                                                        432\n",
       "[{'iso_3166_1': 'ES', 'name': 'Spain'}]                                                                                                                                                                              398\n",
       "[{'iso_3166_1': 'CA', 'name': 'Canada'}, {'iso_3166_1': 'US', 'name': 'United States of America'}]                                                                                                                   365\n",
       "[{'iso_3166_1': 'HK', 'name': 'Hong Kong'}]                                                                                                                                                                          365\n",
       "[{'iso_3166_1': 'AU', 'name': 'Australia'}]                                                                                                                                                                          336\n",
       "[{'iso_3166_1': 'SE', 'name': 'Sweden'}]                                                                                                                                                                             332\n",
       "[{'iso_3166_1': 'FI', 'name': 'Finland'}]                                                                                                                                                                            271\n",
       "[{'iso_3166_1': 'FR', 'name': 'France'}, {'iso_3166_1': 'IT', 'name': 'Italy'}]                                                                                                                                      235\n",
       "[{'iso_3166_1': 'DE', 'name': 'Germany'}, {'iso_3166_1': 'US', 'name': 'United States of America'}]                                                                                                                  214\n",
       "[{'iso_3166_1': 'PL', 'name': 'Poland'}]                                                                                                                                                                             214\n",
       "[{'iso_3166_1': 'BR', 'name': 'Brazil'}]                                                                                                                                                                             206\n",
       "[{'iso_3166_1': 'DK', 'name': 'Denmark'}]                                                                                                                                                                            178\n",
       "[{'iso_3166_1': 'CN', 'name': 'China'}]                                                                                                                                                                              164\n",
       "[{'iso_3166_1': 'NL', 'name': 'Netherlands'}]                                                                                                                                                                        160\n",
       "[{'iso_3166_1': 'MX', 'name': 'Mexico'}]                                                                                                                                                                             155\n",
       "[{'iso_3166_1': 'IT', 'name': 'Italy'}, {'iso_3166_1': 'FR', 'name': 'France'}]                                                                                                                                      125\n",
       "[{'iso_3166_1': 'FR', 'name': 'France'}, {'iso_3166_1': 'US', 'name': 'United States of America'}]                                                                                                                   124\n",
       "[{'iso_3166_1': 'TR', 'name': 'Turkey'}]                                                                                                                                                                             117\n",
       "[{'iso_3166_1': 'US', 'name': 'United States of America'}, {'iso_3166_1': 'CA', 'name': 'Canada'}]                                                                                                                   113\n",
       "                                                                                                                                                                                                                   ...  \n",
       "[{'iso_3166_1': 'LU', 'name': 'Luxembourg'}, {'iso_3166_1': 'IE', 'name': 'Ireland'}, {'iso_3166_1': 'NL', 'name': 'Netherlands'}]                                                                                     1\n",
       "[{'iso_3166_1': 'HK', 'name': 'Hong Kong'}, {'iso_3166_1': 'HR', 'name': 'Croatia'}]                                                                                                                                   1\n",
       "[{'iso_3166_1': 'FR', 'name': 'France'}, {'iso_3166_1': 'DE', 'name': 'Germany'}, {'iso_3166_1': 'LV', 'name': 'Latvia'}]                                                                                              1\n",
       "[{'iso_3166_1': 'FR', 'name': 'France'}, {'iso_3166_1': 'BG', 'name': 'Bulgaria'}, {'iso_3166_1': 'DK', 'name': 'Denmark'}]                                                                                            1\n",
       "[{'iso_3166_1': 'DE', 'name': 'Germany'}, {'iso_3166_1': 'PL', 'name': 'Poland'}, {'iso_3166_1': 'GB', 'name': 'United Kingdom'}]                                                                                      1\n",
       "[{'iso_3166_1': 'US', 'name': 'United States of America'}, {'iso_3166_1': 'NI', 'name': 'Nicaragua'}, {'iso_3166_1': 'FR', 'name': 'France'}]                                                                          1\n",
       "[{'iso_3166_1': 'GB', 'name': 'United Kingdom'}, {'iso_3166_1': 'FR', 'name': 'France'}, {'iso_3166_1': 'US', 'name': 'United States of America'}]                                                                     1\n",
       "[{'iso_3166_1': 'TR', 'name': 'Turkey'}, {'iso_3166_1': 'IT', 'name': 'Italy'}]                                                                                                                                        1\n",
       "[{'iso_3166_1': 'DE', 'name': 'Germany'}, {'iso_3166_1': 'HK', 'name': 'Hong Kong'}, {'iso_3166_1': 'CN', 'name': 'China'}, {'iso_3166_1': 'FR', 'name': 'France'}, {'iso_3166_1': 'IT', 'name': 'Italy'}]             1\n",
       "[{'iso_3166_1': 'FR', 'name': 'France'}, {'iso_3166_1': 'NL', 'name': 'Netherlands'}, {'iso_3166_1': 'US', 'name': 'United States of America'}]                                                                        1\n",
       "[{'iso_3166_1': 'JP', 'name': 'Japan'}, {'iso_3166_1': 'FR', 'name': 'France'}, {'iso_3166_1': 'HK', 'name': 'Hong Kong'}]                                                                                             1\n",
       "[{'iso_3166_1': 'CD', 'name': 'Congo'}, {'iso_3166_1': 'CG', 'name': 'Congo'}, {'iso_3166_1': 'GB', 'name': 'United Kingdom'}]                                                                                         1\n",
       "[{'iso_3166_1': 'DK', 'name': 'Denmark'}, {'iso_3166_1': 'BE', 'name': 'Belgium'}, {'iso_3166_1': 'FR', 'name': 'France'}, {'iso_3166_1': 'CH', 'name': 'Switzerland'}, {'iso_3166_1': 'SE', 'name': 'Sweden'}]        1\n",
       "[{'iso_3166_1': 'US', 'name': 'United States of America'}, {'iso_3166_1': 'RS', 'name': 'Serbia'}, {'iso_3166_1': 'GB', 'name': 'United Kingdom'}]                                                                     1\n",
       "[{'iso_3166_1': 'HK', 'name': 'Hong Kong'}, {'iso_3166_1': 'GB', 'name': 'United Kingdom'}, {'iso_3166_1': 'US', 'name': 'United States of America'}]                                                                  1\n",
       "[{'iso_3166_1': 'CA', 'name': 'Canada'}, {'iso_3166_1': 'JP', 'name': 'Japan'}, {'iso_3166_1': 'ES', 'name': 'Spain'}]                                                                                                 1\n",
       "[{'iso_3166_1': 'SE', 'name': 'Sweden'}, {'iso_3166_1': 'DK', 'name': 'Denmark'}, {'iso_3166_1': 'DE', 'name': 'Germany'}]                                                                                             1\n",
       "[{'iso_3166_1': 'BE', 'name': 'Belgium'}, {'iso_3166_1': 'CD', 'name': 'Congo'}, {'iso_3166_1': 'FR', 'name': 'France'}]                                                                                               1\n",
       "[{'iso_3166_1': 'RU', 'name': 'Russia'}, {'iso_3166_1': 'LV', 'name': 'Latvia'}]                                                                                                                                       1\n",
       "[{'iso_3166_1': 'IT', 'name': 'Italy'}, {'iso_3166_1': 'KP', 'name': 'North Korea'}]                                                                                                                                   1\n",
       "[{'iso_3166_1': 'BA', 'name': 'Bosnia and Herzegovina'}, {'iso_3166_1': 'IT', 'name': 'Italy'}, {'iso_3166_1': 'GB', 'name': 'United Kingdom'}]                                                                        1\n",
       "[{'iso_3166_1': 'IE', 'name': 'Ireland'}, {'iso_3166_1': 'CA', 'name': 'Canada'}]                                                                                                                                      1\n",
       "[{'iso_3166_1': 'BF', 'name': 'Burkina Faso'}, {'iso_3166_1': 'FR', 'name': 'France'}, {'iso_3166_1': 'MR', 'name': 'Mauritania'}]                                                                                     1\n",
       "[{'iso_3166_1': 'SE', 'name': 'Sweden'}, {'iso_3166_1': 'IT', 'name': 'Italy'}, {'iso_3166_1': 'HU', 'name': 'Hungary'}, {'iso_3166_1': 'FR', 'name': 'France'}]                                                       1\n",
       "[{'iso_3166_1': 'CA', 'name': 'Canada'}, {'iso_3166_1': 'IN', 'name': 'India'}, {'iso_3166_1': 'US', 'name': 'United States of America'}]                                                                              1\n",
       "[{'iso_3166_1': 'BE', 'name': 'Belgium'}, {'iso_3166_1': 'LU', 'name': 'Luxembourg'}, {'iso_3166_1': 'DE', 'name': 'Germany'}, {'iso_3166_1': 'NO', 'name': 'Norway'}]                                                 1\n",
       "[{'iso_3166_1': 'FR', 'name': 'France'}, {'iso_3166_1': 'MX', 'name': 'Mexico'}, {'iso_3166_1': 'DE', 'name': 'Germany'}]                                                                                              1\n",
       "[{'iso_3166_1': 'NL', 'name': 'Netherlands'}, {'iso_3166_1': 'PE', 'name': 'Peru'}]                                                                                                                                    1\n",
       "[{'iso_3166_1': 'US', 'name': 'United States of America'}, {'iso_3166_1': 'NZ', 'name': 'New Zealand'}, {'iso_3166_1': 'CA', 'name': 'Canada'}, {'iso_3166_1': 'ZA', 'name': 'South Africa'}]                          1\n",
       "[{'iso_3166_1': 'FI', 'name': 'Finland'}, {'iso_3166_1': 'CA', 'name': 'Canada'}, {'iso_3166_1': 'NL', 'name': 'Netherlands'}, {'iso_3166_1': 'PT', 'name': 'Portugal'}]                                               1\n",
       "Name: production_countries, dtype: int64"
      ]
     },
     "execution_count": 84,
     "metadata": {},
     "output_type": "execute_result"
    }
   ],
   "source": [
    "f['production_countries'].value_counts()"
   ]
  },
  {
   "cell_type": "code",
   "execution_count": 85,
   "metadata": {
    "collapsed": false
   },
   "outputs": [],
   "source": [
    "f['production_countries'] = f['production_countries'].fillna('[]').apply(ast.literal_eval)\n",
    "f['production_countries'] = f['production_countries'].apply(lambda x: [i['name'] for i in x] if isinstance(x, list) else [])\n",
    "# Production countries- converting string into dictionary. "
   ]
  },
  {
   "cell_type": "code",
   "execution_count": 86,
   "metadata": {
    "collapsed": false
   },
   "outputs": [],
   "source": [
    "f['production_countries'] = f['production_countries'].apply(lambda x: len(x))\n",
    "# Here also I replaced this variable with the number of countries the film was shot. "
   ]
  },
  {
   "cell_type": "code",
   "execution_count": 89,
   "metadata": {
    "collapsed": false
   },
   "outputs": [
    {
     "data": {
      "text/plain": [
       "0    1\n",
       "1    1\n",
       "2    1\n",
       "3    1\n",
       "4    1\n",
       "Name: production_countries, dtype: int64"
      ]
     },
     "execution_count": 89,
     "metadata": {},
     "output_type": "execute_result"
    }
   ],
   "source": [
    "f['production_countries'].head()"
   ]
  },
  {
   "cell_type": "code",
   "execution_count": 90,
   "metadata": {
    "collapsed": false
   },
   "outputs": [
    {
     "data": {
      "text/plain": [
       "0    [{'id': 16, 'name': 'Animation'}, {'id': 35, '...\n",
       "1    [{'id': 12, 'name': 'Adventure'}, {'id': 14, '...\n",
       "2    [{'id': 10749, 'name': 'Romance'}, {'id': 35, ...\n",
       "3    [{'id': 35, 'name': 'Comedy'}, {'id': 18, 'nam...\n",
       "4                       [{'id': 35, 'name': 'Comedy'}]\n",
       "Name: genres, dtype: object"
      ]
     },
     "execution_count": 90,
     "metadata": {},
     "output_type": "execute_result"
    }
   ],
   "source": [
    "f['genres'].head()"
   ]
  },
  {
   "cell_type": "code",
   "execution_count": 91,
   "metadata": {
    "collapsed": false
   },
   "outputs": [],
   "source": [
    "f['genres'] = f['genres'].fillna('[]').apply(ast.literal_eval)\n",
    "f['genres'] = f['genres'].apply(lambda x: [i['name'] for i in x] if isinstance(x, list) else [])\n",
    "# Genres-  converting string into dictionary. "
   ]
  },
  {
   "cell_type": "code",
   "execution_count": 92,
   "metadata": {
    "collapsed": false
   },
   "outputs": [
    {
     "data": {
      "text/plain": [
       "0     [Animation, Comedy, Family]\n",
       "1    [Adventure, Fantasy, Family]\n",
       "2               [Romance, Comedy]\n",
       "3        [Comedy, Drama, Romance]\n",
       "4                        [Comedy]\n",
       "Name: genres, dtype: object"
      ]
     },
     "execution_count": 92,
     "metadata": {},
     "output_type": "execute_result"
    }
   ],
   "source": [
    "f['genres'].head()"
   ]
  },
  {
   "cell_type": "code",
   "execution_count": 93,
   "metadata": {
    "collapsed": true
   },
   "outputs": [],
   "source": [
    "f['genres'] = f['genres'].apply(lambda x: len(x))\n",
    "# I replaced this variable into number of genres."
   ]
  },
  {
   "cell_type": "code",
   "execution_count": 94,
   "metadata": {
    "collapsed": false
   },
   "outputs": [
    {
     "data": {
      "text/plain": [
       "0    3\n",
       "1    3\n",
       "2    2\n",
       "3    3\n",
       "4    1\n",
       "Name: genres, dtype: int64"
      ]
     },
     "execution_count": 94,
     "metadata": {},
     "output_type": "execute_result"
    }
   ],
   "source": [
    "f['genres'].head()"
   ]
  },
  {
   "cell_type": "code",
   "execution_count": 95,
   "metadata": {
    "collapsed": false
   },
   "outputs": [
    {
     "data": {
      "text/plain": [
       "[{'iso_639_1': 'en', 'name': 'English'}]                                                                                                                                                                                                               22395\n",
       "[]                                                                                                                                                                                                                                                      3829\n",
       "[{'iso_639_1': 'fr', 'name': 'Français'}]                                                                                                                                                                                                               1853\n",
       "[{'iso_639_1': 'ja', 'name': '日本語'}]                                                                                                                                                                                                                    1289\n",
       "[{'iso_639_1': 'it', 'name': 'Italiano'}]                                                                                                                                                                                                               1218\n",
       "[{'iso_639_1': 'es', 'name': 'Español'}]                                                                                                                                                                                                                 902\n",
       "[{'iso_639_1': 'ru', 'name': 'Pусский'}]                                                                                                                                                                                                                 807\n",
       "[{'iso_639_1': 'de', 'name': 'Deutsch'}]                                                                                                                                                                                                                 762\n",
       "[{'iso_639_1': 'en', 'name': 'English'}, {'iso_639_1': 'fr', 'name': 'Français'}]                                                                                                                                                                        681\n",
       "[{'iso_639_1': 'en', 'name': 'English'}, {'iso_639_1': 'es', 'name': 'Español'}]                                                                                                                                                                         572\n",
       "[{'iso_639_1': 'hi', 'name': 'हिन्दी'}]                                                                                                                                                                                                                  481\n",
       "[{'iso_639_1': 'en', 'name': 'English'}, {'iso_639_1': 'de', 'name': 'Deutsch'}]                                                                                                                                                                         462\n",
       "[{'iso_639_1': 'ko', 'name': '한국어/조선말'}]                                                                                                                                                                                                                 425\n",
       "[{'iso_639_1': 'zh', 'name': '普通话'}]                                                                                                                                                                                                                     347\n",
       "[{'iso_639_1': 'en', 'name': 'English'}, {'iso_639_1': 'it', 'name': 'Italiano'}]                                                                                                                                                                        326\n",
       "[{'iso_639_1': 'sv', 'name': 'svenska'}]                                                                                                                                                                                                                 311\n",
       "[{'iso_639_1': 'xx', 'name': 'No Language'}]                                                                                                                                                                                                             303\n",
       "[{'iso_639_1': 'fi', 'name': 'suomi'}]                                                                                                                                                                                                                   275\n",
       "[{'iso_639_1': 'pt', 'name': 'Português'}]                                                                                                                                                                                                               275\n",
       "[{'iso_639_1': 'pl', 'name': 'Polski'}]                                                                                                                                                                                                                  213\n",
       "[{'iso_639_1': 'nl', 'name': 'Nederlands'}]                                                                                                                                                                                                              197\n",
       "[{'iso_639_1': 'es', 'name': 'Español'}, {'iso_639_1': 'en', 'name': 'English'}]                                                                                                                                                                         185\n",
       "[{'iso_639_1': 'cn', 'name': '广州话 / 廣州話'}]                                                                                                                                                                                                               172\n",
       "[{'iso_639_1': 'en', 'name': 'English'}, {'iso_639_1': 'ru', 'name': 'Pусский'}]                                                                                                                                                                         167\n",
       "[{'iso_639_1': 'da', 'name': 'Dansk'}]                                                                                                                                                                                                                   163\n",
       "[{'iso_639_1': 'fr', 'name': 'Français'}, {'iso_639_1': 'en', 'name': 'English'}]                                                                                                                                                                        144\n",
       "[{'iso_639_1': 'tr', 'name': 'Türkçe'}]                                                                                                                                                                                                                  140\n",
       "[{'iso_639_1': 'en', 'name': 'English'}, {'iso_639_1': 'ja', 'name': '日本語'}]                                                                                                                                                                             126\n",
       "[{'iso_639_1': 'de', 'name': 'Deutsch'}, {'iso_639_1': 'en', 'name': 'English'}]                                                                                                                                                                         119\n",
       "[{'iso_639_1': 'el', 'name': 'ελληνικά'}]                                                                                                                                                                                                                113\n",
       "                                                                                                                                                                                                                                                       ...  \n",
       "[{'iso_639_1': 'fa', 'name': 'فارسی'}, {'iso_639_1': 'sv', 'name': 'svenska'}]                                                                                                                                                                             1\n",
       "[{'iso_639_1': 'en', 'name': 'English'}, {'iso_639_1': 'de', 'name': 'Deutsch'}, {'iso_639_1': 'km', 'name': ''}]                                                                                                                                          1\n",
       "[{'iso_639_1': 'fr', 'name': 'Français'}, {'iso_639_1': 'pt', 'name': 'Português'}, {'iso_639_1': 'es', 'name': 'Español'}]                                                                                                                                1\n",
       "[{'iso_639_1': 'en', 'name': 'English'}, {'iso_639_1': 'fr', 'name': 'Français'}, {'iso_639_1': 'it', 'name': 'Italiano'}, {'iso_639_1': 'ro', 'name': 'Română'}, {'iso_639_1': 'ru', 'name': 'Pусский'}, {'iso_639_1': 'yi', 'name': ''}]                 1\n",
       "[{'iso_639_1': 'fr', 'name': 'Français'}, {'iso_639_1': 'it', 'name': 'Italiano'}, {'iso_639_1': 'oc', 'name': ''}]                                                                                                                                        1\n",
       "[{'iso_639_1': 'nl', 'name': 'Nederlands'}, {'iso_639_1': 'en', 'name': 'English'}, {'iso_639_1': 'fr', 'name': 'Français'}, {'iso_639_1': 'pt', 'name': 'Português'}]                                                                                     1\n",
       "[{'iso_639_1': 'fr', 'name': 'Français'}, {'iso_639_1': 'km', 'name': ''}, {'iso_639_1': 'en', 'name': 'English'}]                                                                                                                                         1\n",
       "[{'iso_639_1': 'cs', 'name': 'Český'}, {'iso_639_1': 'la', 'name': 'Latin'}]                                                                                                                                                                               1\n",
       "[{'iso_639_1': 'ar', 'name': 'العربية'}, {'iso_639_1': 'en', 'name': 'English'}, {'iso_639_1': 'fr', 'name': 'Français'}, {'iso_639_1': 'he', 'name': 'עִבְרִית'}, {'iso_639_1': 'it', 'name': 'Italiano'}]                                                1\n",
       "[{'iso_639_1': 'en', 'name': 'English'}, {'iso_639_1': 'it', 'name': 'Italiano'}, {'iso_639_1': 'ru', 'name': 'Pусский'}, {'iso_639_1': 'es', 'name': 'Español'}]                                                                                          1\n",
       "[{'iso_639_1': 'ca', 'name': 'Català'}, {'iso_639_1': 'hu', 'name': 'Magyar'}, {'iso_639_1': 'es', 'name': 'Español'}]                                                                                                                                     1\n",
       "[{'iso_639_1': 'en', 'name': 'English'}, {'iso_639_1': 'es', 'name': 'Español'}, {'iso_639_1': 'eu', 'name': 'euskera'}]                                                                                                                                   1\n",
       "[{'iso_639_1': 'en', 'name': 'English'}, {'iso_639_1': 'fr', 'name': 'Français'}, {'iso_639_1': 'de', 'name': 'Deutsch'}, {'iso_639_1': 'it', 'name': 'Italiano'}, {'iso_639_1': 'pl', 'name': 'Polski'}, {'iso_639_1': 'es', 'name': 'Español'}]          1\n",
       "[{'iso_639_1': 'en', 'name': 'English'}, {'iso_639_1': 'fr', 'name': 'Français'}, {'iso_639_1': 'de', 'name': 'Deutsch'}, {'iso_639_1': 'it', 'name': 'Italiano'}, {'iso_639_1': 'pt', 'name': 'Português'}, {'iso_639_1': 'tr', 'name': 'Türkçe'}]        1\n",
       "[{'iso_639_1': 'en', 'name': 'English'}, {'iso_639_1': 'ro', 'name': 'Română'}, {'iso_639_1': 'ru', 'name': 'Pусский'}]                                                                                                                                    1\n",
       "[{'iso_639_1': 'en', 'name': 'English'}, {'iso_639_1': 'hi', 'name': 'हिन्दी'}, {'iso_639_1': 'ne', 'name': ''}, {'iso_639_1': 'bo', 'name': ''}]                                                                                                          1\n",
       "[{'iso_639_1': 'en', 'name': 'English'}, {'iso_639_1': 'he', 'name': 'עִבְרִית'}, {'iso_639_1': 'kk', 'name': 'қазақ'}]                                                                                                                                    1\n",
       "[{'iso_639_1': 'ja', 'name': '日本語'}, {'iso_639_1': 'cn', 'name': '广州话 / 廣州話'}, {'iso_639_1': 'en', 'name': 'English'}, {'iso_639_1': 'th', 'name': 'ภาษาไทย'}]                                                                                             1\n",
       "[{'iso_639_1': 'fr', 'name': 'Français'}, {'iso_639_1': 'es', 'name': 'Español'}, {'iso_639_1': 'ar', 'name': 'العربية'}, {'iso_639_1': 'en', 'name': 'English'}]                                                                                          1\n",
       "[{'iso_639_1': 'fr', 'name': 'Français'}, {'iso_639_1': 'he', 'name': 'עִבְרִית'}, {'iso_639_1': 'ru', 'name': 'Pусский'}]                                                                                                                                 1\n",
       "[{'iso_639_1': 'ce', 'name': ''}, {'iso_639_1': 'cs', 'name': 'Český'}, {'iso_639_1': 'ru', 'name': 'Pусский'}]                                                                                                                                            1\n",
       "[{'iso_639_1': 'de', 'name': 'Deutsch'}, {'iso_639_1': 'en', 'name': 'English'}, {'iso_639_1': 'fr', 'name': 'Français'}, {'iso_639_1': 'hi', 'name': 'हिन्दी'}, {'iso_639_1': 'tr', 'name': 'Türkçe'}, {'iso_639_1': 'cn', 'name': '广州话 / 廣州話'}]          1\n",
       "[{'iso_639_1': 'wo', 'name': 'Wolof'}]                                                                                                                                                                                                                     1\n",
       "[{'iso_639_1': 'fr', 'name': 'Français'}, {'iso_639_1': 'ur', 'name': 'اردو'}]                                                                                                                                                                             1\n",
       "[{'iso_639_1': 'de', 'name': 'Deutsch'}, {'iso_639_1': 'am', 'name': ''}, {'iso_639_1': 'en', 'name': 'English'}]                                                                                                                                          1\n",
       "[{'iso_639_1': 'en', 'name': 'English'}, {'iso_639_1': 'it', 'name': 'Italiano'}, {'iso_639_1': 'es', 'name': 'Español'}, {'iso_639_1': 'cn', 'name': '广州话 / 廣州話'}]                                                                                        1\n",
       "[{'iso_639_1': 'fr', 'name': 'Français'}, {'iso_639_1': 'mn', 'name': ''}, {'iso_639_1': 'es', 'name': 'Español'}]                                                                                                                                         1\n",
       "[{'iso_639_1': 'pt', 'name': 'Português'}, {'iso_639_1': 'en', 'name': 'English'}, {'iso_639_1': 'ja', 'name': '日本語'}, {'iso_639_1': 'es', 'name': 'Español'}, {'iso_639_1': 'it', 'name': 'Italiano'}, {'iso_639_1': 'fr', 'name': 'Français'}]           1\n",
       "[{'iso_639_1': 'en', 'name': 'English'}, {'iso_639_1': 'ja', 'name': '日本語'}, {'iso_639_1': 'ar', 'name': 'العربية'}, {'iso_639_1': 'zh', 'name': '普通话'}]                                                                                                   1\n",
       "[{'iso_639_1': 'ml', 'name': ''}, {'iso_639_1': 'ne', 'name': ''}]                                                                                                                                                                                         1\n",
       "Name: spoken_languages, dtype: int64"
      ]
     },
     "execution_count": 95,
     "metadata": {},
     "output_type": "execute_result"
    }
   ],
   "source": [
    "f['spoken_languages'].value_counts()"
   ]
  },
  {
   "cell_type": "code",
   "execution_count": 96,
   "metadata": {
    "collapsed": false
   },
   "outputs": [],
   "source": [
    "f['spoken_languages'] = f['spoken_languages'].fillna('[]').apply(ast.literal_eval).apply(lambda x: len(x) if isinstance(x, list) else np.nan)\n",
    "## Spoken launuages-  converting string into dictionary. "
   ]
  },
  {
   "cell_type": "code",
   "execution_count": 97,
   "metadata": {
    "collapsed": false
   },
   "outputs": [
    {
     "data": {
      "text/plain": [
       "1     33736\n",
       "2      5371\n",
       "0      3835\n",
       "3      1705\n",
       "4       550\n",
       "5       178\n",
       "6        62\n",
       "7        14\n",
       "8         6\n",
       "9         5\n",
       "19        1\n",
       "13        1\n",
       "12        1\n",
       "10        1\n",
       "Name: spoken_languages, dtype: int64"
      ]
     },
     "execution_count": 97,
     "metadata": {},
     "output_type": "execute_result"
    }
   ],
   "source": [
    "f['spoken_languages'].value_counts()\n",
    "# # I replaced this variable into number of  using languages in the film. "
   ]
  },
  {
   "cell_type": "code",
   "execution_count": 98,
   "metadata": {
    "collapsed": false
   },
   "outputs": [],
   "source": [
    "f[['year','month','day']] = f['release_date'].str.split('-', expand=True)\n",
    "f['year'] = f['year'].str.strip()\n",
    "# I split release_date into 3 columns - year, month and day.\n",
    "# I will use only 'year' for analysis. "
   ]
  },
  {
   "cell_type": "code",
   "execution_count": 99,
   "metadata": {
    "collapsed": false
   },
   "outputs": [
    {
     "name": "stdout",
     "output_type": "stream",
     "text": [
      "35587      22\n",
      "26559    2020\n",
      "44535    2018\n",
      "38130    2018\n",
      "33359    2018\n",
      "38885    2018\n",
      "30402    2018\n",
      "42489    2017\n",
      "44591    2017\n",
      "42488    2017\n",
      "44585    2017\n",
      "44595    2017\n",
      "42485    2017\n",
      "42479    2017\n",
      "44602    2017\n",
      "44604    2017\n",
      "44590    2017\n",
      "44582    2017\n",
      "44584    2017\n",
      "44578    2017\n",
      "44575    2017\n",
      "42505    2017\n",
      "42518    2017\n",
      "44558    2017\n",
      "43641    2017\n",
      "44551    2017\n",
      "42536    2017\n",
      "42537    2017\n",
      "42538    2017\n",
      "42540    2017\n",
      "         ... \n",
      "40082     NaN\n",
      "40142     NaN\n",
      "40203     NaN\n",
      "40740     NaN\n",
      "40781     NaN\n",
      "41052     NaN\n",
      "41069     NaN\n",
      "41114     NaN\n",
      "41399     NaN\n",
      "41718     NaN\n",
      "42179     NaN\n",
      "42568     NaN\n",
      "42573     NaN\n",
      "42941     NaN\n",
      "43090     NaN\n",
      "43377     NaN\n",
      "43523     NaN\n",
      "43962     NaN\n",
      "44014     NaN\n",
      "44065     NaN\n",
      "44098     NaN\n",
      "44296     NaN\n",
      "44798     NaN\n",
      "44978     NaN\n",
      "45070     NaN\n",
      "45148     NaN\n",
      "45203     NaN\n",
      "45338     NaN\n",
      "45410     NaN\n",
      "45461     NaN\n",
      "Name: year, dtype: object\n"
     ]
    }
   ],
   "source": [
    "year = f['year'].copy()\n",
    "year.sort(ascending=False)\n",
    "print(year)"
   ]
  },
  {
   "cell_type": "code",
   "execution_count": 100,
   "metadata": {
    "collapsed": true
   },
   "outputs": [],
   "source": [
    "f['year'] = f['year'].replace('NaT', np.nan)"
   ]
  },
  {
   "cell_type": "code",
   "execution_count": 101,
   "metadata": {
    "collapsed": false
   },
   "outputs": [],
   "source": [
    "# I will replace impossible date of year (1,12,22,2020) into NaN. \n",
    "f['year'] = pd.to_numeric(f['year'], errors='coerce')\n",
    "f['year'] = f['year'].replace((1,12,22,2020) ,np.nan)\n",
    "#f['year'] = f['year'].replace(12 ,np.nan)\n",
    "#f['year'] = f['year'].replace(1 ,np.nan)\n",
    "#f['year'] = f['year'].replace(0 ,np.nan)"
   ]
  },
  {
   "cell_type": "code",
   "execution_count": 102,
   "metadata": {
    "collapsed": false
   },
   "outputs": [],
   "source": [
    "f['year'] = f['year'].fillna(f['year'].median())"
   ]
  },
  {
   "cell_type": "code",
   "execution_count": 103,
   "metadata": {
    "collapsed": false
   },
   "outputs": [
    {
     "data": {
      "text/plain": [
       "count    45466.000000\n",
       "mean      1991.898825\n",
       "std         24.034633\n",
       "min       1874.000000\n",
       "25%       1978.000000\n",
       "50%       2001.000000\n",
       "75%       2010.000000\n",
       "max       2018.000000\n",
       "Name: year, dtype: float64"
      ]
     },
     "execution_count": 103,
     "metadata": {},
     "output_type": "execute_result"
    }
   ],
   "source": [
    "f['year'].describe()"
   ]
  },
  {
   "cell_type": "code",
   "execution_count": 104,
   "metadata": {
    "collapsed": false
   },
   "outputs": [
    {
     "data": {
      "text/plain": [
       "count    45203.000000\n",
       "mean        94.128199\n",
       "std         38.407810\n",
       "min          0.000000\n",
       "25%         85.000000\n",
       "50%         95.000000\n",
       "75%        107.000000\n",
       "max       1256.000000\n",
       "Name: runtime, dtype: float64"
      ]
     },
     "execution_count": 104,
     "metadata": {},
     "output_type": "execute_result"
    }
   ],
   "source": [
    " f['runtime'].describe()"
   ]
  },
  {
   "cell_type": "code",
   "execution_count": 105,
   "metadata": {
    "collapsed": true
   },
   "outputs": [],
   "source": [
    "# The runtime of the movie in minutes.Nan will be replaced mean of the runtime. \n",
    "f['runtime'] = f['runtime'].astype('float')"
   ]
  },
  {
   "cell_type": "code",
   "execution_count": 106,
   "metadata": {
    "collapsed": false
   },
   "outputs": [],
   "source": [
    "# I replace 0 into Nan. \n",
    "f['runtime'] = f['runtime'].replace(0, np.nan)"
   ]
  },
  {
   "cell_type": "code",
   "execution_count": 107,
   "metadata": {
    "collapsed": true
   },
   "outputs": [],
   "source": [
    "#Nan will be replaced mean of the runtime. \n",
    "f['runtime'] = f['runtime'].fillna(f['runtime'].mean())"
   ]
  },
  {
   "cell_type": "code",
   "execution_count": 108,
   "metadata": {
    "collapsed": false
   },
   "outputs": [
    {
     "data": {
      "text/plain": [
       "count    45466.000000\n",
       "mean        97.488303\n",
       "std         33.943610\n",
       "min          1.000000\n",
       "25%         87.000000\n",
       "50%         96.000000\n",
       "75%        107.000000\n",
       "max       1256.000000\n",
       "Name: runtime, dtype: float64"
      ]
     },
     "execution_count": 108,
     "metadata": {},
     "output_type": "execute_result"
    }
   ],
   "source": [
    " f['runtime'].describe()"
   ]
  },
  {
   "cell_type": "code",
   "execution_count": 161,
   "metadata": {
    "collapsed": true
   },
   "outputs": [],
   "source": [
    "# Final checking our file before analysis. "
   ]
  },
  {
   "cell_type": "code",
   "execution_count": 109,
   "metadata": {
    "collapsed": false
   },
   "outputs": [
    {
     "data": {
      "text/plain": [
       "Index(['adult', 'belongs_to_collection', 'budget', 'genres', 'homepage', 'id',\n",
       "       'imdb_id', 'original_language', 'original_title', 'overview',\n",
       "       'popularity', 'poster_path', 'production_companies',\n",
       "       'production_countries', 'release_date', 'revenue', 'runtime',\n",
       "       'spoken_languages', 'status', 'tagline', 'title', 'video',\n",
       "       'vote_average', 'vote_count', 'profit', 'year', 'month', 'day'],\n",
       "      dtype='object')"
      ]
     },
     "execution_count": 109,
     "metadata": {},
     "output_type": "execute_result"
    }
   ],
   "source": [
    "f.columns"
   ]
  },
  {
   "cell_type": "code",
   "execution_count": 110,
   "metadata": {
    "collapsed": false
   },
   "outputs": [
    {
     "data": {
      "text/plain": [
       "(45466, 28)"
      ]
     },
     "execution_count": 110,
     "metadata": {},
     "output_type": "execute_result"
    }
   ],
   "source": [
    "f.shape"
   ]
  },
  {
   "cell_type": "markdown",
   "metadata": {},
   "source": [
    "Now in datafile we have 4 new variables: profit, year, month, day.\n",
    "\n",
    "I think it's high time to delete irrelevant variables, which I mentioned before: \n",
    "\n",
    "    id,\n",
    "    imdb_id,\n",
    "    adult,\n",
    "    overview,\n",
    "    poster_path,\n",
    "    status,\n",
    "    video,\n",
    "    original_title,\n",
    "    release date, month, day, \n",
    "    belongs_to_collection, \n",
    "    homepage,\n",
    "    taglile,\n",
    "    title"
   ]
  },
  {
   "cell_type": "code",
   "execution_count": 113,
   "metadata": {
    "collapsed": true
   },
   "outputs": [],
   "source": [
    "f = f.drop(['id', 'imdb_id','title', 'adult', 'overview', 'poster_path', 'status', 'video','original_title','release_date', 'month', 'day','belongs_to_collection','homepage','tagline'], axis=1)"
   ]
  },
  {
   "cell_type": "code",
   "execution_count": 114,
   "metadata": {
    "collapsed": false
   },
   "outputs": [
    {
     "data": {
      "text/plain": [
       "(45466, 13)"
      ]
     },
     "execution_count": 114,
     "metadata": {},
     "output_type": "execute_result"
    }
   ],
   "source": [
    "f.shape"
   ]
  },
  {
   "cell_type": "code",
   "execution_count": 115,
   "metadata": {
    "collapsed": false
   },
   "outputs": [
    {
     "data": {
      "text/plain": [
       "Index(['budget', 'genres', 'original_language', 'popularity',\n",
       "       'production_companies', 'production_countries', 'revenue', 'runtime',\n",
       "       'spoken_languages', 'vote_average', 'vote_count', 'profit', 'year'],\n",
       "      dtype='object')"
      ]
     },
     "execution_count": 115,
     "metadata": {},
     "output_type": "execute_result"
    }
   ],
   "source": [
    "f.columns"
   ]
  },
  {
   "cell_type": "code",
   "execution_count": 116,
   "metadata": {
    "collapsed": false
   },
   "outputs": [
    {
     "name": "stdout",
     "output_type": "stream",
     "text": [
      "                        Dtype  Nulls  Sum_of_nulls  Per_of_nulls\n",
      "budget                float64   True         36576         80.45\n",
      "genres                  int64  False             0          0.00\n",
      "original_language       int64  False             0          0.00\n",
      "popularity            float64  False             0          0.00\n",
      "production_companies    int64  False             0          0.00\n",
      "production_countries    int64  False             0          0.00\n",
      "revenue               float64   True         38058         83.71\n",
      "runtime               float64  False             0          0.00\n",
      "spoken_languages        int64  False             0          0.00\n",
      "vote_average          float64   True          3004          6.61\n",
      "vote_count            float64  False             0          0.00\n",
      "profit                float64   True         40085         88.16\n",
      "year                  float64  False             0          0.00\n"
     ]
    }
   ],
   "source": [
    "summary = pd.DataFrame(f.dtypes, columns=['Dtype'])\n",
    "summary['Nulls'] = pd.DataFrame(f.isnull().any())\n",
    "summary['Sum_of_nulls'] = pd.DataFrame(f.isnull().sum())\n",
    "summary['Per_of_nulls'] = round((f.apply(pd.isnull).mean()*100),2)\n",
    "summary.Dtype = summary.Dtype.astype(str)\n",
    "print(summary)"
   ]
  },
  {
   "cell_type": "code",
   "execution_count": 117,
   "metadata": {
    "collapsed": false
   },
   "outputs": [],
   "source": [
    "# We have to delete nulls observation from Vote_average before analysis. \n",
    "\n",
    "# Despite of the fact that budget, profit and revenue have many nulls , I suppose they can have an impact on model,\n",
    "# so I'll take them into account in analysis. \n",
    "\n",
    "f1 = f[f['vote_average'].notnull() & f['budget'].notnull() & f['revenue'].notnull()]"
   ]
  },
  {
   "cell_type": "code",
   "execution_count": 118,
   "metadata": {
    "collapsed": false
   },
   "outputs": [
    {
     "data": {
      "text/plain": [
       "budget                  False\n",
       "genres                  False\n",
       "original_language       False\n",
       "popularity              False\n",
       "production_companies    False\n",
       "production_countries    False\n",
       "revenue                 False\n",
       "runtime                 False\n",
       "spoken_languages        False\n",
       "vote_average            False\n",
       "vote_count              False\n",
       "profit                  False\n",
       "year                    False\n",
       "dtype: bool"
      ]
     },
     "execution_count": 118,
     "metadata": {},
     "output_type": "execute_result"
    }
   ],
   "source": [
    "# Checking if there are Nans in the datafile. \n",
    "np.isnan(f.any())"
   ]
  },
  {
   "cell_type": "code",
   "execution_count": 119,
   "metadata": {
    "collapsed": false
   },
   "outputs": [
    {
     "data": {
      "text/plain": [
       "budget                  True\n",
       "genres                  True\n",
       "original_language       True\n",
       "popularity              True\n",
       "production_companies    True\n",
       "production_countries    True\n",
       "revenue                 True\n",
       "runtime                 True\n",
       "spoken_languages        True\n",
       "vote_average            True\n",
       "vote_count              True\n",
       "profit                  True\n",
       "year                    True\n",
       "dtype: bool"
      ]
     },
     "execution_count": 119,
     "metadata": {},
     "output_type": "execute_result"
    }
   ],
   "source": [
    "# Checking if there are infinies in the datafile.\n",
    "np.isfinite(f.all())"
   ]
  },
  {
   "cell_type": "code",
   "execution_count": 120,
   "metadata": {
    "collapsed": false
   },
   "outputs": [
    {
     "name": "stdout",
     "output_type": "stream",
     "text": [
      "                        Dtype  Nulls  Sum_of_nulls  Per_of_nulls\n",
      "budget                float64  False             0           0.0\n",
      "genres                  int64  False             0           0.0\n",
      "original_language       int64  False             0           0.0\n",
      "popularity            float64  False             0           0.0\n",
      "production_companies    int64  False             0           0.0\n",
      "production_countries    int64  False             0           0.0\n",
      "revenue               float64  False             0           0.0\n",
      "runtime               float64  False             0           0.0\n",
      "spoken_languages        int64  False             0           0.0\n",
      "vote_average          float64  False             0           0.0\n",
      "vote_count            float64  False             0           0.0\n",
      "profit                float64  False             0           0.0\n",
      "year                  float64  False             0           0.0\n"
     ]
    }
   ],
   "source": [
    "summary = pd.DataFrame(f1.dtypes, columns=['Dtype'])\n",
    "summary['Nulls'] = pd.DataFrame(f1.isnull().any())\n",
    "summary['Sum_of_nulls'] = pd.DataFrame(f1.isnull().sum())\n",
    "summary['Per_of_nulls'] = round((f1.apply(pd.isnull).mean()*100),2)\n",
    "summary.Dtype = summary.Dtype.astype(str)\n",
    "print(summary)"
   ]
  },
  {
   "cell_type": "code",
   "execution_count": 121,
   "metadata": {
    "collapsed": false
   },
   "outputs": [
    {
     "data": {
      "text/plain": [
       "(5374, 13)"
      ]
     },
     "execution_count": 121,
     "metadata": {},
     "output_type": "execute_result"
    }
   ],
   "source": [
    "f1.shape"
   ]
  },
  {
   "cell_type": "code",
   "execution_count": 122,
   "metadata": {
    "collapsed": true
   },
   "outputs": [],
   "source": [
    "# Before analysis, let't see the relationship between our variables by plotting the Pearson Correlation. \n",
    "# look at heatmap."
   ]
  },
  {
   "cell_type": "code",
   "execution_count": 123,
   "metadata": {
    "collapsed": false
   },
   "outputs": [
    {
     "data": {
      "text/plain": [
       "<matplotlib.axes._subplots.AxesSubplot at 0x7f6c54eda240>"
      ]
     },
     "execution_count": 123,
     "metadata": {},
     "output_type": "execute_result"
    },
    {
     "data": {
      "image/png": "[encoded data removed]",
      "text/plain": [
       "<matplotlib.figure.Figure at 0x7f6c54edab38>"
      ]
     },
     "metadata": {},
     "output_type": "display_data"
    }
   ],
   "source": [
    "colormap = plt.cm.viridis\n",
    "plt.figure(figsize=(12,12))\n",
    "plt.title('Pearson Correlation of Features', y=1.05, size=15)\n",
    "sns.heatmap(f1.corr(),linewidths=0.1,vmax=1.0, square=True, cmap=colormap, linecolor='white', annot=True)"
   ]
  },
  {
   "cell_type": "code",
   "execution_count": 124,
   "metadata": {
    "collapsed": true
   },
   "outputs": [],
   "source": [
    "# According to heatmap, there is low correlation between vote_average and the other variables. "
   ]
  },
  {
   "cell_type": "code",
   "execution_count": 125,
   "metadata": {
    "collapsed": true
   },
   "outputs": [],
   "source": [
    "# Now I'll convert vote_average feature into a binary variable: 1 indicating that film gained high scores among viewers\n",
    "# (above median) and 0 indicating that film gained low scores (below median). \n",
    "\n",
    "f1['vote_average'] = f1['vote_average'].apply(lambda x: 1 if x >6.01 else 0)"
   ]
  },
  {
   "cell_type": "code",
   "execution_count": 126,
   "metadata": {
    "collapsed": false
   },
   "outputs": [
    {
     "data": {
      "text/plain": [
       "1    3335\n",
       "0    2039\n",
       "Name: vote_average, dtype: int64"
      ]
     },
     "execution_count": 126,
     "metadata": {},
     "output_type": "execute_result"
    }
   ],
   "source": [
    "f1['vote_average'].value_counts()"
   ]
  },
  {
   "cell_type": "markdown",
   "metadata": {},
   "source": [
    "# Prepare datafile for classification"
   ]
  },
  {
   "cell_type": "code",
   "execution_count": 127,
   "metadata": {
    "collapsed": true
   },
   "outputs": [],
   "source": [
    "X, y = f1.drop('vote_average', axis=1), f1['vote_average']"
   ]
  },
  {
   "cell_type": "code",
   "execution_count": 128,
   "metadata": {
    "collapsed": true
   },
   "outputs": [],
   "source": [
    "X_train, X_test, y_train, y_test = train_test_split(X,y,test_size=0.25)"
   ]
  },
  {
   "cell_type": "code",
   "execution_count": 129,
   "metadata": {
    "collapsed": true
   },
   "outputs": [],
   "source": [
    "sc = StandardScaler()"
   ]
  },
  {
   "cell_type": "code",
   "execution_count": 130,
   "metadata": {
    "collapsed": false
   },
   "outputs": [
    {
     "data": {
      "text/plain": [
       "StandardScaler(copy=True, with_mean=True, with_std=True)"
      ]
     },
     "execution_count": 130,
     "metadata": {},
     "output_type": "execute_result"
    }
   ],
   "source": [
    "sc.fit(X_train)"
   ]
  },
  {
   "cell_type": "code",
   "execution_count": 131,
   "metadata": {
    "collapsed": false
   },
   "outputs": [
    {
     "data": {
      "text/plain": [
       "array([[ 0.1024736 ,  1.25158045, -0.34605706, ...,  0.46646965,\n",
       "         0.23140488, -0.18439598],\n",
       "       [-0.15150427, -0.52913242, -0.34605706, ..., -0.54397731,\n",
       "        -0.22564296,  0.70396722],\n",
       "       [-0.07531091,  1.25158045, -0.34605706, ...,  0.1184181 ,\n",
       "        -0.25187202,  0.89433076],\n",
       "       ..., \n",
       "       [-0.51469263, -0.52913242, -0.34605706, ..., -0.5800367 ,\n",
       "        -0.49895449, -0.37475953],\n",
       "       [-0.63660201,  0.36122401,  2.88969687, ..., -0.5753333 ,\n",
       "        -0.33528249,  0.89433076],\n",
       "       [ 0.61042934, -1.41948886, -0.34605706, ...,  0.31596087,\n",
       "         0.27527148,  0.6405127 ]])"
      ]
     },
     "execution_count": 131,
     "metadata": {},
     "output_type": "execute_result"
    }
   ],
   "source": [
    "sc.transform(X_train)  \n",
    "sc.transform(X_test)"
   ]
  },
  {
   "cell_type": "markdown",
   "metadata": {},
   "source": [
    "# Classification comparision"
   ]
  },
  {
   "cell_type": "code",
   "execution_count": 171,
   "metadata": {
    "collapsed": false
   },
   "outputs": [
    {
     "name": "stdout",
     "output_type": "stream",
     "text": [
      "------------------------------\n",
      "KNeighborsClassifier\n",
      "****Results****\n",
      "Accuracy: 60.12%\n",
      "roc_auc_score: 58.08%\n",
      "------------------------------\n",
      "SVC\n",
      "****Results****\n",
      "Accuracy: 63.91%\n",
      "roc_auc_score: 49.94%\n",
      "------------------------------\n",
      "DecisionTreeClassifier\n",
      "****Results****\n",
      "Accuracy: 65.03%\n",
      "roc_auc_score: 63.31%\n",
      "------------------------------\n",
      "RandomForestClassifier\n",
      "****Results****\n",
      "Accuracy: 71.43%\n",
      "roc_auc_score: 78.21%\n",
      "------------------------------\n",
      "AdaBoostClassifier\n",
      "****Results****\n",
      "Accuracy: 73.81%\n",
      "roc_auc_score: 80.57%\n",
      "------------------------------\n",
      "GaussianNB\n",
      "****Results****\n",
      "Accuracy: 45.61%\n",
      "roc_auc_score: 58.75%\n",
      "------------------------------\n",
      "LinearDiscriminantAnalysis\n",
      "****Results****\n",
      "Accuracy: 73.81%\n",
      "roc_auc_score: 78.16%\n",
      "------------------------------\n",
      "QuadraticDiscriminantAnalysis\n",
      "****Results****\n",
      "Accuracy: 56.40%\n",
      "roc_auc_score: 75.59%\n",
      "------------------------------\n",
      "XGBClassifier\n",
      "****Results****\n",
      "Accuracy: 75.60%\n",
      "roc_auc_score: 83.06%\n",
      "==============================\n"
     ]
    }
   ],
   "source": [
    "classifiers = [\n",
    "    KNeighborsClassifier(3),\n",
    "    SVC(kernel=\"rbf\", C=0.025, probability=True),\n",
    "    DecisionTreeClassifier(),\n",
    "    RandomForestClassifier(),\n",
    "    AdaBoostClassifier(),\n",
    "    GaussianNB(),\n",
    "    LinearDiscriminantAnalysis(),\n",
    "    QuadraticDiscriminantAnalysis(),\n",
    "    XGBClassifier()]\n",
    "\n",
    "# Logging for Visual Comparison:\n",
    "\n",
    "log_cols=[\"Classifier\", \"Accuracy\",\"Roc_auc_score\"]\n",
    "log = pd.DataFrame(columns=log_cols)\n",
    "\n",
    "for clf in classifiers:\n",
    "    clf.fit(X_train, y_train)\n",
    "    name = clf.__class__.__name__\n",
    "    \n",
    "    print(\"-\"*30)\n",
    "    print(name)\n",
    "    \n",
    "    print('****Results****')\n",
    "    train_predictions = clf.predict(X_test)\n",
    "    acc = accuracy_score(y_test, train_predictions)\n",
    "\n",
    "    print(\"Accuracy: {:.2%}\".format(acc))\n",
    "\n",
    "    train_predictions = clf.predict_proba(X_test)[:,1] \n",
    "    roc = roc_auc_score(y_test, train_predictions)\n",
    "    \n",
    "    print(\"roc_auc_score: {:.2%}\".format(roc))\n",
    "    \n",
    "    log_entry = pd.DataFrame([[name, acc*100, roc*100]], columns=log_cols)\n",
    "    \n",
    "    log = log.append(log_entry)\n",
    "    \n",
    "print(\"=\"*30)"
   ]
  },
  {
   "cell_type": "code",
   "execution_count": null,
   "metadata": {
    "collapsed": false
   },
   "outputs": [],
   "source": [
    "# As we see, the best classified method is XGBClassifier with accuracy score 75,60% and roc auc score 83%. "
   ]
  },
  {
   "cell_type": "code",
   "execution_count": 172,
   "metadata": {
    "collapsed": false
   },
   "outputs": [
    {
     "data": {
      "image/png": "[encoded data removed]",
      "text/plain": [
       "<matplotlib.figure.Figure at 0x7f6c54d689b0>"
      ]
     },
     "metadata": {},
     "output_type": "display_data"
    },
    {
     "data": {
      "image/png": "[encoded data removed]",
      "text/plain": [
       "<matplotlib.figure.Figure at 0x7f6c4f5865c0>"
      ]
     },
     "metadata": {},
     "output_type": "display_data"
    }
   ],
   "source": [
    "sns.set_color_codes(\"muted\")\n",
    "sns.barplot(x='Accuracy', y='Classifier', data=log, color=\"r\")\n",
    "\n",
    "plt.xlabel('Accuracy %')\n",
    "plt.title('Classifier Accuracy')\n",
    "plt.show()\n",
    "\n",
    "sns.set_color_codes(\"muted\")\n",
    "sns.barplot(x='Roc_auc_score', y='Classifier', data=log, color=\"b\")\n",
    "\n",
    "plt.xlabel('Roc_auc_score %')\n",
    "plt.title('roc_auc_score')\n",
    "plt.show()"
   ]
  },
  {
   "cell_type": "markdown",
   "metadata": {},
   "source": [
    "# XGBClassifier"
   ]
  },
  {
   "cell_type": "code",
   "execution_count": 148,
   "metadata": {
    "collapsed": false
   },
   "outputs": [],
   "source": [
    "estimator1 = XGBClassifier()\n",
    "scores = cross_val_score(X=X_train, y=y_train, estimator=estimator1, cv=KFold(8))"
   ]
  },
  {
   "cell_type": "code",
   "execution_count": 149,
   "metadata": {
    "collapsed": false
   },
   "outputs": [
    {
     "data": {
      "text/plain": [
       "XGBClassifier(base_score=0.5, booster='gbtree', colsample_bylevel=1,\n",
       "       colsample_bytree=1, gamma=0, learning_rate=0.1, max_delta_step=0,\n",
       "       max_depth=3, min_child_weight=1, missing=None, n_estimators=100,\n",
       "       n_jobs=1, nthread=None, objective='binary:logistic', random_state=0,\n",
       "       reg_alpha=0, reg_lambda=1, scale_pos_weight=1, seed=None,\n",
       "       silent=True, subsample=1)"
      ]
     },
     "execution_count": 149,
     "metadata": {},
     "output_type": "execute_result"
    }
   ],
   "source": [
    "estimator1.fit(X=X_train, y=y_train)"
   ]
  },
  {
   "cell_type": "code",
   "execution_count": 150,
   "metadata": {
    "collapsed": false
   },
   "outputs": [
    {
     "data": {
      "text/plain": [
       "0.75595238095238093"
      ]
     },
     "execution_count": 150,
     "metadata": {},
     "output_type": "execute_result"
    }
   ],
   "source": [
    "accuracy_score(estimator1.predict(X_test), y_test)"
   ]
  },
  {
   "cell_type": "code",
   "execution_count": 151,
   "metadata": {
    "collapsed": false
   },
   "outputs": [
    {
     "data": {
      "image/png": "[encoded data removed]",
      "text/plain": [
       "<matplotlib.figure.Figure at 0x7f6c54dc4ef0>"
      ]
     },
     "metadata": {},
     "output_type": "display_data"
    }
   ],
   "source": [
    "plot_importance(booster=estimator1, max_num_features=10, importance_type='gain')\n",
    "plt.show()"
   ]
  },
  {
   "cell_type": "code",
   "execution_count": 193,
   "metadata": {
    "collapsed": false
   },
   "outputs": [],
   "source": [
    "# The most important features for model are: runtime, vote_count, budget, year. "
   ]
  }
 ],
 "metadata": {
  "kernelspec": {
   "display_name": "Python 3",
   "language": "python",
   "name": "python3"
  },
  "language_info": {
   "codemirror_mode": {
    "name": "ipython",
    "version": 3
   },
   "file_extension": ".py",
   "mimetype": "text/x-python",
   "name": "python",
   "nbconvert_exporter": "python",
   "pygments_lexer": "ipython3",
   "version": "3.6.0"
  }
 },
 "nbformat": 4,
 "nbformat_minor": 2
}
